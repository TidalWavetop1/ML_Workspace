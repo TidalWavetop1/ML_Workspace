{
 "cells": [
  {
   "cell_type": "markdown",
   "id": "f3571b75",
   "metadata": {},
   "source": [
    "# Khám phá dữ liệu trên tập dữ liệu về bệnh tiểu đường"
   ]
  }
 ],
 "metadata": {
  "language_info": {
   "name": "python"
  }
 },
 "nbformat": 4,
 "nbformat_minor": 5
}
