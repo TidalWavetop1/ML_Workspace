{
 "cells": [
  {
   "cell_type": "markdown",
   "id": "f3571b75",
   "metadata": {},
   "source": [
    "# Khám phá dữ liệu trên tập dữ liệu về bệnh tiểu đường"
   ]
  },
  {
   "cell_type": "markdown",
   "id": "8af11c25",
   "metadata": {},
   "source": [
    "## 1. Chuẩn bị dữ liệu"
   ]
  },
  {
   "cell_type": "code",
   "execution_count": 23,
   "id": "c2cf94ce",
   "metadata": {},
   "outputs": [],
   "source": [
    "import pandas as pd \n",
    "diabetes_data = pd.read_csv(\"diabetes.csv\")\n",
    "diabetes_data = diabetes_data[['Pregnancies','Glucose','BloodPressure','SkinThickness','Insulin','BMI','DiabetesPedigreeFunction','Age','Outcome']]\n"
   ]
  },
  {
   "cell_type": "code",
   "execution_count": 24,
   "id": "bc8ac31f",
   "metadata": {},
   "outputs": [
    {
     "data": {
      "text/html": [
       "<style type=\"text/css\">\n",
       "#T_7a6a9_row0_col0 {\n",
       "  background-color: #4bb062;\n",
       "  color: #f1f1f1;\n",
       "}\n",
       "#T_7a6a9_row0_col1 {\n",
       "  background-color: #50b264;\n",
       "  color: #f1f1f1;\n",
       "}\n",
       "#T_7a6a9_row0_col2 {\n",
       "  background-color: #228a44;\n",
       "  color: #f1f1f1;\n",
       "}\n",
       "#T_7a6a9_row0_col3, #T_7a6a9_row0_col5, #T_7a6a9_row4_col3 {\n",
       "  background-color: #1a843f;\n",
       "  color: #f1f1f1;\n",
       "}\n",
       "#T_7a6a9_row0_col4, #T_7a6a9_row1_col4, #T_7a6a9_row1_col8, #T_7a6a9_row2_col3, #T_7a6a9_row2_col4, #T_7a6a9_row3_col7, #T_7a6a9_row3_col8, #T_7a6a9_row4_col0, #T_7a6a9_row5_col3, #T_7a6a9_row5_col4, #T_7a6a9_row5_col8, #T_7a6a9_row6_col1, #T_7a6a9_row7_col2, #T_7a6a9_row7_col3, #T_7a6a9_row7_col4, #T_7a6a9_row7_col6, #T_7a6a9_row7_col8, #T_7a6a9_row9_col3, #T_7a6a9_row9_col4, #T_7a6a9_row9_col5 {\n",
       "  background-color: #f7fcf5;\n",
       "  color: #000000;\n",
       "}\n",
       "#T_7a6a9_row0_col6 {\n",
       "  background-color: #ccebc6;\n",
       "  color: #000000;\n",
       "}\n",
       "#T_7a6a9_row0_col7 {\n",
       "  background-color: #006c2c;\n",
       "  color: #f1f1f1;\n",
       "}\n",
       "#T_7a6a9_row0_col8, #T_7a6a9_row2_col8, #T_7a6a9_row4_col5, #T_7a6a9_row4_col6, #T_7a6a9_row4_col8, #T_7a6a9_row6_col8, #T_7a6a9_row7_col0, #T_7a6a9_row8_col1, #T_7a6a9_row8_col3, #T_7a6a9_row8_col4, #T_7a6a9_row8_col8, #T_7a6a9_row9_col2, #T_7a6a9_row9_col7, #T_7a6a9_row9_col8 {\n",
       "  background-color: #00441b;\n",
       "  color: #f1f1f1;\n",
       "}\n",
       "#T_7a6a9_row1_col0, #T_7a6a9_row1_col6, #T_7a6a9_row3_col0 {\n",
       "  background-color: #e9f7e5;\n",
       "  color: #000000;\n",
       "}\n",
       "#T_7a6a9_row1_col1 {\n",
       "  background-color: #eff9eb;\n",
       "  color: #000000;\n",
       "}\n",
       "#T_7a6a9_row1_col2, #T_7a6a9_row3_col2 {\n",
       "  background-color: #319a50;\n",
       "  color: #f1f1f1;\n",
       "}\n",
       "#T_7a6a9_row1_col3 {\n",
       "  background-color: #3da65a;\n",
       "  color: #f1f1f1;\n",
       "}\n",
       "#T_7a6a9_row1_col5 {\n",
       "  background-color: #45ad5f;\n",
       "  color: #f1f1f1;\n",
       "}\n",
       "#T_7a6a9_row1_col7 {\n",
       "  background-color: #b7e2b1;\n",
       "  color: #000000;\n",
       "}\n",
       "#T_7a6a9_row2_col0, #T_7a6a9_row9_col0 {\n",
       "  background-color: #157f3b;\n",
       "  color: #f1f1f1;\n",
       "}\n",
       "#T_7a6a9_row2_col1 {\n",
       "  background-color: #006b2b;\n",
       "  color: #f1f1f1;\n",
       "}\n",
       "#T_7a6a9_row2_col2 {\n",
       "  background-color: #37a055;\n",
       "  color: #f1f1f1;\n",
       "}\n",
       "#T_7a6a9_row2_col5 {\n",
       "  background-color: #63bc6e;\n",
       "  color: #f1f1f1;\n",
       "}\n",
       "#T_7a6a9_row2_col6 {\n",
       "  background-color: #c8e9c1;\n",
       "  color: #000000;\n",
       "}\n",
       "#T_7a6a9_row2_col7 {\n",
       "  background-color: #aedea7;\n",
       "  color: #000000;\n",
       "}\n",
       "#T_7a6a9_row3_col1 {\n",
       "  background-color: #eaf7e6;\n",
       "  color: #000000;\n",
       "}\n",
       "#T_7a6a9_row3_col3 {\n",
       "  background-color: #70c274;\n",
       "  color: #000000;\n",
       "}\n",
       "#T_7a6a9_row3_col4 {\n",
       "  background-color: #daf0d4;\n",
       "  color: #000000;\n",
       "}\n",
       "#T_7a6a9_row3_col5 {\n",
       "  background-color: #3ba458;\n",
       "  color: #f1f1f1;\n",
       "}\n",
       "#T_7a6a9_row3_col6 {\n",
       "  background-color: #f5fbf3;\n",
       "  color: #000000;\n",
       "}\n",
       "#T_7a6a9_row4_col1 {\n",
       "  background-color: #76c578;\n",
       "  color: #000000;\n",
       "}\n",
       "#T_7a6a9_row4_col2 {\n",
       "  background-color: #92d28f;\n",
       "  color: #000000;\n",
       "}\n",
       "#T_7a6a9_row4_col4, #T_7a6a9_row7_col1 {\n",
       "  background-color: #b5e1ae;\n",
       "  color: #000000;\n",
       "}\n",
       "#T_7a6a9_row4_col7 {\n",
       "  background-color: #a4da9e;\n",
       "  color: #000000;\n",
       "}\n",
       "#T_7a6a9_row5_col0 {\n",
       "  background-color: #73c476;\n",
       "  color: #000000;\n",
       "}\n",
       "#T_7a6a9_row5_col1 {\n",
       "  background-color: #b2e0ac;\n",
       "  color: #000000;\n",
       "}\n",
       "#T_7a6a9_row5_col2 {\n",
       "  background-color: #1d8640;\n",
       "  color: #f1f1f1;\n",
       "}\n",
       "#T_7a6a9_row5_col5 {\n",
       "  background-color: #4db163;\n",
       "  color: #f1f1f1;\n",
       "}\n",
       "#T_7a6a9_row5_col6 {\n",
       "  background-color: #f3faf0;\n",
       "  color: #000000;\n",
       "}\n",
       "#T_7a6a9_row5_col7 {\n",
       "  background-color: #c1e6ba;\n",
       "  color: #000000;\n",
       "}\n",
       "#T_7a6a9_row6_col0 {\n",
       "  background-color: #b8e3b2;\n",
       "  color: #000000;\n",
       "}\n",
       "#T_7a6a9_row6_col2 {\n",
       "  background-color: #6bc072;\n",
       "  color: #000000;\n",
       "}\n",
       "#T_7a6a9_row6_col3 {\n",
       "  background-color: #2c944c;\n",
       "  color: #f1f1f1;\n",
       "}\n",
       "#T_7a6a9_row6_col4 {\n",
       "  background-color: #dcf2d7;\n",
       "  color: #000000;\n",
       "}\n",
       "#T_7a6a9_row6_col5 {\n",
       "  background-color: #2a924a;\n",
       "  color: #f1f1f1;\n",
       "}\n",
       "#T_7a6a9_row6_col6 {\n",
       "  background-color: #f0f9ec;\n",
       "  color: #000000;\n",
       "}\n",
       "#T_7a6a9_row6_col7 {\n",
       "  background-color: #dff3da;\n",
       "  color: #000000;\n",
       "}\n",
       "#T_7a6a9_row7_col5 {\n",
       "  background-color: #107a37;\n",
       "  color: #f1f1f1;\n",
       "}\n",
       "#T_7a6a9_row7_col7 {\n",
       "  background-color: #c9eac2;\n",
       "  color: #000000;\n",
       "}\n",
       "#T_7a6a9_row8_col0 {\n",
       "  background-color: #d3eecd;\n",
       "  color: #000000;\n",
       "}\n",
       "#T_7a6a9_row8_col2 {\n",
       "  background-color: #289049;\n",
       "  color: #f1f1f1;\n",
       "}\n",
       "#T_7a6a9_row8_col5 {\n",
       "  background-color: #2d954d;\n",
       "  color: #f1f1f1;\n",
       "}\n",
       "#T_7a6a9_row8_col6 {\n",
       "  background-color: #f6fcf4;\n",
       "  color: #000000;\n",
       "}\n",
       "#T_7a6a9_row8_col7 {\n",
       "  background-color: #004d1f;\n",
       "  color: #f1f1f1;\n",
       "}\n",
       "#T_7a6a9_row9_col1 {\n",
       "  background-color: #99d595;\n",
       "  color: #000000;\n",
       "}\n",
       "#T_7a6a9_row9_col6 {\n",
       "  background-color: #f1faee;\n",
       "  color: #000000;\n",
       "}\n",
       "</style>\n",
       "<table id=\"T_7a6a9\">\n",
       "  <thead>\n",
       "    <tr>\n",
       "      <th class=\"blank level0\" >&nbsp;</th>\n",
       "      <th id=\"T_7a6a9_level0_col0\" class=\"col_heading level0 col0\" >Pregnancies</th>\n",
       "      <th id=\"T_7a6a9_level0_col1\" class=\"col_heading level0 col1\" >Glucose</th>\n",
       "      <th id=\"T_7a6a9_level0_col2\" class=\"col_heading level0 col2\" >BloodPressure</th>\n",
       "      <th id=\"T_7a6a9_level0_col3\" class=\"col_heading level0 col3\" >SkinThickness</th>\n",
       "      <th id=\"T_7a6a9_level0_col4\" class=\"col_heading level0 col4\" >Insulin</th>\n",
       "      <th id=\"T_7a6a9_level0_col5\" class=\"col_heading level0 col5\" >BMI</th>\n",
       "      <th id=\"T_7a6a9_level0_col6\" class=\"col_heading level0 col6\" >DiabetesPedigreeFunction</th>\n",
       "      <th id=\"T_7a6a9_level0_col7\" class=\"col_heading level0 col7\" >Age</th>\n",
       "      <th id=\"T_7a6a9_level0_col8\" class=\"col_heading level0 col8\" >Outcome</th>\n",
       "    </tr>\n",
       "  </thead>\n",
       "  <tbody>\n",
       "    <tr>\n",
       "      <th id=\"T_7a6a9_level0_row0\" class=\"row_heading level0 row0\" >0</th>\n",
       "      <td id=\"T_7a6a9_row0_col0\" class=\"data row0 col0\" >6</td>\n",
       "      <td id=\"T_7a6a9_row0_col1\" class=\"data row0 col1\" >148</td>\n",
       "      <td id=\"T_7a6a9_row0_col2\" class=\"data row0 col2\" >72</td>\n",
       "      <td id=\"T_7a6a9_row0_col3\" class=\"data row0 col3\" >35</td>\n",
       "      <td id=\"T_7a6a9_row0_col4\" class=\"data row0 col4\" >0</td>\n",
       "      <td id=\"T_7a6a9_row0_col5\" class=\"data row0 col5\" >33.600000</td>\n",
       "      <td id=\"T_7a6a9_row0_col6\" class=\"data row0 col6\" >0.627000</td>\n",
       "      <td id=\"T_7a6a9_row0_col7\" class=\"data row0 col7\" >50</td>\n",
       "      <td id=\"T_7a6a9_row0_col8\" class=\"data row0 col8\" >1</td>\n",
       "    </tr>\n",
       "    <tr>\n",
       "      <th id=\"T_7a6a9_level0_row1\" class=\"row_heading level0 row1\" >1</th>\n",
       "      <td id=\"T_7a6a9_row1_col0\" class=\"data row1 col0\" >1</td>\n",
       "      <td id=\"T_7a6a9_row1_col1\" class=\"data row1 col1\" >85</td>\n",
       "      <td id=\"T_7a6a9_row1_col2\" class=\"data row1 col2\" >66</td>\n",
       "      <td id=\"T_7a6a9_row1_col3\" class=\"data row1 col3\" >29</td>\n",
       "      <td id=\"T_7a6a9_row1_col4\" class=\"data row1 col4\" >0</td>\n",
       "      <td id=\"T_7a6a9_row1_col5\" class=\"data row1 col5\" >26.600000</td>\n",
       "      <td id=\"T_7a6a9_row1_col6\" class=\"data row1 col6\" >0.351000</td>\n",
       "      <td id=\"T_7a6a9_row1_col7\" class=\"data row1 col7\" >31</td>\n",
       "      <td id=\"T_7a6a9_row1_col8\" class=\"data row1 col8\" >0</td>\n",
       "    </tr>\n",
       "    <tr>\n",
       "      <th id=\"T_7a6a9_level0_row2\" class=\"row_heading level0 row2\" >2</th>\n",
       "      <td id=\"T_7a6a9_row2_col0\" class=\"data row2 col0\" >8</td>\n",
       "      <td id=\"T_7a6a9_row2_col1\" class=\"data row2 col1\" >183</td>\n",
       "      <td id=\"T_7a6a9_row2_col2\" class=\"data row2 col2\" >64</td>\n",
       "      <td id=\"T_7a6a9_row2_col3\" class=\"data row2 col3\" >0</td>\n",
       "      <td id=\"T_7a6a9_row2_col4\" class=\"data row2 col4\" >0</td>\n",
       "      <td id=\"T_7a6a9_row2_col5\" class=\"data row2 col5\" >23.300000</td>\n",
       "      <td id=\"T_7a6a9_row2_col6\" class=\"data row2 col6\" >0.672000</td>\n",
       "      <td id=\"T_7a6a9_row2_col7\" class=\"data row2 col7\" >32</td>\n",
       "      <td id=\"T_7a6a9_row2_col8\" class=\"data row2 col8\" >1</td>\n",
       "    </tr>\n",
       "    <tr>\n",
       "      <th id=\"T_7a6a9_level0_row3\" class=\"row_heading level0 row3\" >3</th>\n",
       "      <td id=\"T_7a6a9_row3_col0\" class=\"data row3 col0\" >1</td>\n",
       "      <td id=\"T_7a6a9_row3_col1\" class=\"data row3 col1\" >89</td>\n",
       "      <td id=\"T_7a6a9_row3_col2\" class=\"data row3 col2\" >66</td>\n",
       "      <td id=\"T_7a6a9_row3_col3\" class=\"data row3 col3\" >23</td>\n",
       "      <td id=\"T_7a6a9_row3_col4\" class=\"data row3 col4\" >94</td>\n",
       "      <td id=\"T_7a6a9_row3_col5\" class=\"data row3 col5\" >28.100000</td>\n",
       "      <td id=\"T_7a6a9_row3_col6\" class=\"data row3 col6\" >0.167000</td>\n",
       "      <td id=\"T_7a6a9_row3_col7\" class=\"data row3 col7\" >21</td>\n",
       "      <td id=\"T_7a6a9_row3_col8\" class=\"data row3 col8\" >0</td>\n",
       "    </tr>\n",
       "    <tr>\n",
       "      <th id=\"T_7a6a9_level0_row4\" class=\"row_heading level0 row4\" >4</th>\n",
       "      <td id=\"T_7a6a9_row4_col0\" class=\"data row4 col0\" >0</td>\n",
       "      <td id=\"T_7a6a9_row4_col1\" class=\"data row4 col1\" >137</td>\n",
       "      <td id=\"T_7a6a9_row4_col2\" class=\"data row4 col2\" >40</td>\n",
       "      <td id=\"T_7a6a9_row4_col3\" class=\"data row4 col3\" >35</td>\n",
       "      <td id=\"T_7a6a9_row4_col4\" class=\"data row4 col4\" >168</td>\n",
       "      <td id=\"T_7a6a9_row4_col5\" class=\"data row4 col5\" >43.100000</td>\n",
       "      <td id=\"T_7a6a9_row4_col6\" class=\"data row4 col6\" >2.288000</td>\n",
       "      <td id=\"T_7a6a9_row4_col7\" class=\"data row4 col7\" >33</td>\n",
       "      <td id=\"T_7a6a9_row4_col8\" class=\"data row4 col8\" >1</td>\n",
       "    </tr>\n",
       "    <tr>\n",
       "      <th id=\"T_7a6a9_level0_row5\" class=\"row_heading level0 row5\" >5</th>\n",
       "      <td id=\"T_7a6a9_row5_col0\" class=\"data row5 col0\" >5</td>\n",
       "      <td id=\"T_7a6a9_row5_col1\" class=\"data row5 col1\" >116</td>\n",
       "      <td id=\"T_7a6a9_row5_col2\" class=\"data row5 col2\" >74</td>\n",
       "      <td id=\"T_7a6a9_row5_col3\" class=\"data row5 col3\" >0</td>\n",
       "      <td id=\"T_7a6a9_row5_col4\" class=\"data row5 col4\" >0</td>\n",
       "      <td id=\"T_7a6a9_row5_col5\" class=\"data row5 col5\" >25.600000</td>\n",
       "      <td id=\"T_7a6a9_row5_col6\" class=\"data row5 col6\" >0.201000</td>\n",
       "      <td id=\"T_7a6a9_row5_col7\" class=\"data row5 col7\" >30</td>\n",
       "      <td id=\"T_7a6a9_row5_col8\" class=\"data row5 col8\" >0</td>\n",
       "    </tr>\n",
       "    <tr>\n",
       "      <th id=\"T_7a6a9_level0_row6\" class=\"row_heading level0 row6\" >6</th>\n",
       "      <td id=\"T_7a6a9_row6_col0\" class=\"data row6 col0\" >3</td>\n",
       "      <td id=\"T_7a6a9_row6_col1\" class=\"data row6 col1\" >78</td>\n",
       "      <td id=\"T_7a6a9_row6_col2\" class=\"data row6 col2\" >50</td>\n",
       "      <td id=\"T_7a6a9_row6_col3\" class=\"data row6 col3\" >32</td>\n",
       "      <td id=\"T_7a6a9_row6_col4\" class=\"data row6 col4\" >88</td>\n",
       "      <td id=\"T_7a6a9_row6_col5\" class=\"data row6 col5\" >31.000000</td>\n",
       "      <td id=\"T_7a6a9_row6_col6\" class=\"data row6 col6\" >0.248000</td>\n",
       "      <td id=\"T_7a6a9_row6_col7\" class=\"data row6 col7\" >26</td>\n",
       "      <td id=\"T_7a6a9_row6_col8\" class=\"data row6 col8\" >1</td>\n",
       "    </tr>\n",
       "    <tr>\n",
       "      <th id=\"T_7a6a9_level0_row7\" class=\"row_heading level0 row7\" >7</th>\n",
       "      <td id=\"T_7a6a9_row7_col0\" class=\"data row7 col0\" >10</td>\n",
       "      <td id=\"T_7a6a9_row7_col1\" class=\"data row7 col1\" >115</td>\n",
       "      <td id=\"T_7a6a9_row7_col2\" class=\"data row7 col2\" >0</td>\n",
       "      <td id=\"T_7a6a9_row7_col3\" class=\"data row7 col3\" >0</td>\n",
       "      <td id=\"T_7a6a9_row7_col4\" class=\"data row7 col4\" >0</td>\n",
       "      <td id=\"T_7a6a9_row7_col5\" class=\"data row7 col5\" >35.300000</td>\n",
       "      <td id=\"T_7a6a9_row7_col6\" class=\"data row7 col6\" >0.134000</td>\n",
       "      <td id=\"T_7a6a9_row7_col7\" class=\"data row7 col7\" >29</td>\n",
       "      <td id=\"T_7a6a9_row7_col8\" class=\"data row7 col8\" >0</td>\n",
       "    </tr>\n",
       "    <tr>\n",
       "      <th id=\"T_7a6a9_level0_row8\" class=\"row_heading level0 row8\" >8</th>\n",
       "      <td id=\"T_7a6a9_row8_col0\" class=\"data row8 col0\" >2</td>\n",
       "      <td id=\"T_7a6a9_row8_col1\" class=\"data row8 col1\" >197</td>\n",
       "      <td id=\"T_7a6a9_row8_col2\" class=\"data row8 col2\" >70</td>\n",
       "      <td id=\"T_7a6a9_row8_col3\" class=\"data row8 col3\" >45</td>\n",
       "      <td id=\"T_7a6a9_row8_col4\" class=\"data row8 col4\" >543</td>\n",
       "      <td id=\"T_7a6a9_row8_col5\" class=\"data row8 col5\" >30.500000</td>\n",
       "      <td id=\"T_7a6a9_row8_col6\" class=\"data row8 col6\" >0.158000</td>\n",
       "      <td id=\"T_7a6a9_row8_col7\" class=\"data row8 col7\" >53</td>\n",
       "      <td id=\"T_7a6a9_row8_col8\" class=\"data row8 col8\" >1</td>\n",
       "    </tr>\n",
       "    <tr>\n",
       "      <th id=\"T_7a6a9_level0_row9\" class=\"row_heading level0 row9\" >9</th>\n",
       "      <td id=\"T_7a6a9_row9_col0\" class=\"data row9 col0\" >8</td>\n",
       "      <td id=\"T_7a6a9_row9_col1\" class=\"data row9 col1\" >125</td>\n",
       "      <td id=\"T_7a6a9_row9_col2\" class=\"data row9 col2\" >96</td>\n",
       "      <td id=\"T_7a6a9_row9_col3\" class=\"data row9 col3\" >0</td>\n",
       "      <td id=\"T_7a6a9_row9_col4\" class=\"data row9 col4\" >0</td>\n",
       "      <td id=\"T_7a6a9_row9_col5\" class=\"data row9 col5\" >0.000000</td>\n",
       "      <td id=\"T_7a6a9_row9_col6\" class=\"data row9 col6\" >0.232000</td>\n",
       "      <td id=\"T_7a6a9_row9_col7\" class=\"data row9 col7\" >54</td>\n",
       "      <td id=\"T_7a6a9_row9_col8\" class=\"data row9 col8\" >1</td>\n",
       "    </tr>\n",
       "  </tbody>\n",
       "</table>\n"
      ],
      "text/plain": [
       "<pandas.io.formats.style.Styler at 0x23a33a93cb0>"
      ]
     },
     "metadata": {},
     "output_type": "display_data"
    }
   ],
   "source": [
    "from IPython.display import display\n",
    "display(diabetes_data.head(10).style.background_gradient(cmap='Greens'))\n"
   ]
  },
  {
   "cell_type": "markdown",
   "id": "a314a33d",
   "metadata": {},
   "source": [
    "### 2. Kiểm tra dữ liệu và định dạng "
   ]
  },
  {
   "cell_type": "markdown",
   "id": "fe8400e3",
   "metadata": {},
   "source": [
    "### 2.1. Kiểm tra dữ liệu trùng lặp"
   ]
  },
  {
   "cell_type": "code",
   "execution_count": 25,
   "id": "44b2b0be",
   "metadata": {},
   "outputs": [
    {
     "name": "stdout",
     "output_type": "stream",
     "text": [
      "Số dòng bị trùng lặp: 0\n",
      "Các dòng bị trùng lặp:\n"
     ]
    },
    {
     "data": {
      "application/vnd.microsoft.datawrangler.viewer.v0+json": {
       "columns": [
        {
         "name": "index",
         "rawType": "int64",
         "type": "integer"
        },
        {
         "name": "Pregnancies",
         "rawType": "int64",
         "type": "integer"
        },
        {
         "name": "Glucose",
         "rawType": "int64",
         "type": "integer"
        },
        {
         "name": "BloodPressure",
         "rawType": "int64",
         "type": "integer"
        },
        {
         "name": "SkinThickness",
         "rawType": "int64",
         "type": "integer"
        },
        {
         "name": "Insulin",
         "rawType": "int64",
         "type": "integer"
        },
        {
         "name": "BMI",
         "rawType": "float64",
         "type": "float"
        },
        {
         "name": "DiabetesPedigreeFunction",
         "rawType": "float64",
         "type": "float"
        },
        {
         "name": "Age",
         "rawType": "int64",
         "type": "integer"
        },
        {
         "name": "Outcome",
         "rawType": "int64",
         "type": "integer"
        }
       ],
       "ref": "bf5dbd30-1428-491b-9670-da479766a5de",
       "rows": [],
       "shape": {
        "columns": 9,
        "rows": 0
       }
      },
      "text/html": [
       "<div>\n",
       "<style scoped>\n",
       "    .dataframe tbody tr th:only-of-type {\n",
       "        vertical-align: middle;\n",
       "    }\n",
       "\n",
       "    .dataframe tbody tr th {\n",
       "        vertical-align: top;\n",
       "    }\n",
       "\n",
       "    .dataframe thead th {\n",
       "        text-align: right;\n",
       "    }\n",
       "</style>\n",
       "<table border=\"1\" class=\"dataframe\">\n",
       "  <thead>\n",
       "    <tr style=\"text-align: right;\">\n",
       "      <th></th>\n",
       "      <th>Pregnancies</th>\n",
       "      <th>Glucose</th>\n",
       "      <th>BloodPressure</th>\n",
       "      <th>SkinThickness</th>\n",
       "      <th>Insulin</th>\n",
       "      <th>BMI</th>\n",
       "      <th>DiabetesPedigreeFunction</th>\n",
       "      <th>Age</th>\n",
       "      <th>Outcome</th>\n",
       "    </tr>\n",
       "  </thead>\n",
       "  <tbody>\n",
       "  </tbody>\n",
       "</table>\n",
       "</div>"
      ],
      "text/plain": [
       "Empty DataFrame\n",
       "Columns: [Pregnancies, Glucose, BloodPressure, SkinThickness, Insulin, BMI, DiabetesPedigreeFunction, Age, Outcome]\n",
       "Index: []"
      ]
     },
     "metadata": {},
     "output_type": "display_data"
    }
   ],
   "source": [
    "duplicate_count = diabetes_data.duplicated().sum()\n",
    "print(f\"Số dòng bị trùng lặp: {duplicate_count}\")\n",
    "\n",
    "# Hiển thị các dòng bị trùng lặp\n",
    "duplicated_rows = diabetes_data[diabetes_data.duplicated(keep=False)]\n",
    "print(\"Các dòng bị trùng lặp:\")\n",
    "display(duplicated_rows)\n"
   ]
  },
  {
   "cell_type": "markdown",
   "id": "dcf3a79b",
   "metadata": {},
   "source": [
    "### 2.2. Kiểm tra dữ liệu bị thiếu "
   ]
  },
  {
   "cell_type": "code",
   "execution_count": 26,
   "id": "5a02291d",
   "metadata": {},
   "outputs": [
    {
     "data": {
      "application/vnd.microsoft.datawrangler.viewer.v0+json": {
       "columns": [
        {
         "name": "index",
         "rawType": "object",
         "type": "string"
        },
        {
         "name": "0",
         "rawType": "float64",
         "type": "float"
        }
       ],
       "ref": "b7526d7c-21c6-4131-a554-0dfe2d7d89e0",
       "rows": [
        [
         "Pregnancies",
         "0.0"
        ],
        [
         "Glucose",
         "0.0"
        ],
        [
         "BloodPressure",
         "0.0"
        ],
        [
         "SkinThickness",
         "0.0"
        ],
        [
         "Insulin",
         "0.0"
        ],
        [
         "BMI",
         "0.0"
        ],
        [
         "DiabetesPedigreeFunction",
         "0.0"
        ],
        [
         "Age",
         "0.0"
        ],
        [
         "Outcome",
         "0.0"
        ]
       ],
       "shape": {
        "columns": 1,
        "rows": 9
       }
      },
      "text/plain": [
       "Pregnancies                 0.0\n",
       "Glucose                     0.0\n",
       "BloodPressure               0.0\n",
       "SkinThickness               0.0\n",
       "Insulin                     0.0\n",
       "BMI                         0.0\n",
       "DiabetesPedigreeFunction    0.0\n",
       "Age                         0.0\n",
       "Outcome                     0.0\n",
       "dtype: float64"
      ]
     },
     "execution_count": 26,
     "metadata": {},
     "output_type": "execute_result"
    }
   ],
   "source": [
    "missing_info = diabetes_data.isnull().sum()\n",
    "missing_info\n",
    "missing_percentage = (missing_info / len(diabetes_data)) * 100\n",
    "missing_percentage\n"
   ]
  },
  {
   "cell_type": "markdown",
   "id": "31e54640",
   "metadata": {},
   "source": [
    "### 2.3. Kiểm tra định dạng dữ liệu"
   ]
  },
  {
   "cell_type": "code",
   "execution_count": 27,
   "id": "62f28534",
   "metadata": {},
   "outputs": [
    {
     "data": {
      "application/vnd.microsoft.datawrangler.viewer.v0+json": {
       "columns": [
        {
         "name": "index",
         "rawType": "object",
         "type": "string"
        },
        {
         "name": "0",
         "rawType": "object",
         "type": "unknown"
        }
       ],
       "ref": "455556e7-d8bb-44bd-b5c1-08ffcdc9b8c8",
       "rows": [
        [
         "Pregnancies",
         "int64"
        ],
        [
         "Glucose",
         "int64"
        ],
        [
         "BloodPressure",
         "int64"
        ],
        [
         "SkinThickness",
         "int64"
        ],
        [
         "Insulin",
         "int64"
        ],
        [
         "BMI",
         "float64"
        ],
        [
         "DiabetesPedigreeFunction",
         "float64"
        ],
        [
         "Age",
         "int64"
        ],
        [
         "Outcome",
         "int64"
        ]
       ],
       "shape": {
        "columns": 1,
        "rows": 9
       }
      },
      "text/plain": [
       "Pregnancies                   int64\n",
       "Glucose                       int64\n",
       "BloodPressure                 int64\n",
       "SkinThickness                 int64\n",
       "Insulin                       int64\n",
       "BMI                         float64\n",
       "DiabetesPedigreeFunction    float64\n",
       "Age                           int64\n",
       "Outcome                       int64\n",
       "dtype: object"
      ]
     },
     "execution_count": 27,
     "metadata": {},
     "output_type": "execute_result"
    }
   ],
   "source": [
    "diabetes_data_info = diabetes_data.dtypes\n",
    "diabetes_data_info\n"
   ]
  },
  {
   "cell_type": "markdown",
   "id": "fd892b4d",
   "metadata": {},
   "source": [
    "Tới đây, ta nhận thấy định dạng dữ liệu của tập dữ liệu không đồng nhất, nên ta sẽ đưa tất cả về cùng 1 định dạng là float64"
   ]
  },
  {
   "cell_type": "code",
   "execution_count": 28,
   "id": "5c6684e0",
   "metadata": {},
   "outputs": [],
   "source": [
    "diabetes_data = diabetes_data.astype('float64')\n"
   ]
  },
  {
   "cell_type": "markdown",
   "id": "f8b2f524",
   "metadata": {},
   "source": [
    "Kiểm tra lại, ta được tập dữ liệu đồng nhất định dạng như sau:"
   ]
  },
  {
   "cell_type": "code",
   "execution_count": 29,
   "id": "793b5ea4",
   "metadata": {},
   "outputs": [
    {
     "data": {
      "application/vnd.microsoft.datawrangler.viewer.v0+json": {
       "columns": [
        {
         "name": "index",
         "rawType": "object",
         "type": "string"
        },
        {
         "name": "0",
         "rawType": "object",
         "type": "unknown"
        }
       ],
       "ref": "419f98b0-73c8-4c98-8811-87eff622826f",
       "rows": [
        [
         "Pregnancies",
         "float64"
        ],
        [
         "Glucose",
         "float64"
        ],
        [
         "BloodPressure",
         "float64"
        ],
        [
         "SkinThickness",
         "float64"
        ],
        [
         "Insulin",
         "float64"
        ],
        [
         "BMI",
         "float64"
        ],
        [
         "DiabetesPedigreeFunction",
         "float64"
        ],
        [
         "Age",
         "float64"
        ],
        [
         "Outcome",
         "float64"
        ]
       ],
       "shape": {
        "columns": 1,
        "rows": 9
       }
      },
      "text/plain": [
       "Pregnancies                 float64\n",
       "Glucose                     float64\n",
       "BloodPressure               float64\n",
       "SkinThickness               float64\n",
       "Insulin                     float64\n",
       "BMI                         float64\n",
       "DiabetesPedigreeFunction    float64\n",
       "Age                         float64\n",
       "Outcome                     float64\n",
       "dtype: object"
      ]
     },
     "execution_count": 29,
     "metadata": {},
     "output_type": "execute_result"
    }
   ],
   "source": [
    "diabetes_data_info = diabetes_data.dtypes\n",
    "diabetes_data_info\n"
   ]
  },
  {
   "cell_type": "markdown",
   "id": "83670181",
   "metadata": {},
   "source": [
    "## 3. Thông tin đặc tả và thống kê mô tả"
   ]
  },
  {
   "cell_type": "markdown",
   "id": "7dfc0769",
   "metadata": {},
   "source": [
    "### 3.1. Thông tin đặc tả"
   ]
  },
  {
   "cell_type": "markdown",
   "id": "ab4f2f16",
   "metadata": {},
   "source": [
    "Bộ dữ liệu này có 768 dòng, 9 cột"
   ]
  },
  {
   "cell_type": "code",
   "execution_count": 30,
   "id": "fdfaf35f",
   "metadata": {},
   "outputs": [
    {
     "name": "stdout",
     "output_type": "stream",
     "text": [
      "Số dòng của bộ dữ liệu: 768\n",
      "Số cột của bộ dữ liệu: 9\n"
     ]
    }
   ],
   "source": [
    "num_rows, num_cols = diabetes_data.shape\n",
    "print(f\"Số dòng của bộ dữ liệu: {num_rows}\")\n",
    "print(f\"Số cột của bộ dữ liệu: {num_cols}\")\n"
   ]
  },
  {
   "cell_type": "markdown",
   "id": "1540a341",
   "metadata": {},
   "source": [
    "Thông tin mô tả của các cột\n",
    "- **Pregnancies**: Số lần mang thai mà bệnh nhân đã từng trải qua. Đây là một yếu tố nguy cơ liên quan đến bệnh tiểu đường, đặc biệt là tiểu đường thai kỳ.\n",
    "- **Glucose**: Nồng độ glucose (đường) trong máu lúc đói, đo bằng đơn vị mg/dL. Giá trị này phản ánh khả năng chuyển hóa đường của cơ thể.\n",
    "- **BloodPressure**: Huyết áp tâm trương (mm Hg) đo được tại thời điểm khám. Huyết áp cao có thể liên quan đến nguy cơ mắc bệnh tiểu đường.\n",
    "- **SkinThickness**: Độ dày nếp gấp da dưới cánh tay (mm), phản ánh lượng mỡ dưới da. Chỉ số này giúp đánh giá tình trạng béo phì.\n",
    "- **Insulin**: Nồng độ insulin trong máu lúc đói (mu U/ml). Insulin là hormone điều hòa lượng đường huyết, giá trị này giúp đánh giá chức năng tuyến tụy.\n",
    "- **BMI**: Chỉ số khối cơ thể (Body Mass Index), tính bằng kg/m². BMI cao là yếu tố nguy cơ của bệnh tiểu đường.\n",
    "- **DiabetesPedigreeFunction**: Chỉ số phả hệ tiểu đường, phản ánh khả năng di truyền bệnh tiểu đường dựa trên lịch sử gia đình.\n",
    "- **Age**: Tuổi của bệnh nhân (năm). Tuổi cao thường đi kèm với nguy cơ mắc bệnh tiểu đường tăng lên.\n",
    "- **Outcome**: Kết quả chẩn đoán bệnh tiểu đường (1: mắc bệnh, 0: không mắc bệnh). Đây là biến mục tiêu của bài toán.\n"
   ]
  },
  {
   "cell_type": "markdown",
   "id": "5779000f",
   "metadata": {},
   "source": [
    "### 3.2. Thống kê mô tả"
   ]
  },
  {
   "cell_type": "markdown",
   "id": "b42eff9a",
   "metadata": {},
   "source": [
    "Thống kê các số liệu đặc trưng để mô tả chung bộ dữ liệu:"
   ]
  },
  {
   "cell_type": "code",
   "execution_count": 31,
   "id": "23b658b9",
   "metadata": {},
   "outputs": [
    {
     "data": {
      "application/vnd.microsoft.datawrangler.viewer.v0+json": {
       "columns": [
        {
         "name": "index",
         "rawType": "object",
         "type": "string"
        },
        {
         "name": "mean",
         "rawType": "float64",
         "type": "float"
        },
        {
         "name": "median",
         "rawType": "float64",
         "type": "float"
        },
        {
         "name": "mode",
         "rawType": "float64",
         "type": "float"
        },
        {
         "name": "variance",
         "rawType": "float64",
         "type": "float"
        },
        {
         "name": "std_dev",
         "rawType": "float64",
         "type": "float"
        },
        {
         "name": "range",
         "rawType": "float64",
         "type": "float"
        },
        {
         "name": "percentile_25",
         "rawType": "float64",
         "type": "float"
        },
        {
         "name": "percentile_50",
         "rawType": "float64",
         "type": "float"
        },
        {
         "name": "percentile_75",
         "rawType": "float64",
         "type": "float"
        },
        {
         "name": "iqr",
         "rawType": "float64",
         "type": "float"
        }
       ],
       "ref": "3f43b615-fced-4841-a56b-af43c997a958",
       "rows": [
        [
         "Pregnancies",
         "3.8450520833333335",
         "3.0",
         "1.0",
         "11.354056320621465",
         "3.3695780626988694",
         "17.0",
         "1.0",
         "3.0",
         "6.0",
         "5.0"
        ],
        [
         "Glucose",
         "120.89453125",
         "117.0",
         "99.0",
         "1022.2483142519557",
         "31.97261819513622",
         "199.0",
         "99.0",
         "117.0",
         "140.25",
         "41.25"
        ],
        [
         "BloodPressure",
         "69.10546875",
         "72.0",
         "70.0",
         "374.6472712271838",
         "19.355807170644777",
         "122.0",
         "62.0",
         "72.0",
         "80.0",
         "18.0"
        ],
        [
         "SkinThickness",
         "20.536458333333332",
         "23.0",
         "0.0",
         "254.47324532811822",
         "15.952217567727637",
         "99.0",
         "0.0",
         "23.0",
         "32.0",
         "32.0"
        ],
        [
         "Insulin",
         "79.79947916666667",
         "30.5",
         "0.0",
         "13281.180077955238",
         "115.24400235133817",
         "846.0",
         "0.0",
         "30.5",
         "127.25",
         "127.25"
        ],
        [
         "BMI",
         "31.992578124999998",
         "32.0",
         "32.0",
         "62.15998395738266",
         "7.884160320375446",
         "67.1",
         "27.3",
         "32.0",
         "36.6",
         "9.3"
        ],
        [
         "DiabetesPedigreeFunction",
         "0.47187630208333325",
         "0.3725",
         "0.254",
         "0.1097786378731394",
         "0.3313285950127749",
         "2.342",
         "0.24375",
         "0.3725",
         "0.62625",
         "0.38249999999999995"
        ],
        [
         "Age",
         "33.240885416666664",
         "29.0",
         "22.0",
         "138.30304589037377",
         "11.760231540678685",
         "60.0",
         "24.0",
         "29.0",
         "41.0",
         "17.0"
        ],
        [
         "Outcome",
         "0.3489583333333333",
         "0.0",
         "0.0",
         "0.22748261625380273",
         "0.47695137724279896",
         "1.0",
         "0.0",
         "0.0",
         "1.0",
         "1.0"
        ]
       ],
       "shape": {
        "columns": 10,
        "rows": 9
       }
      },
      "text/html": [
       "<div>\n",
       "<style scoped>\n",
       "    .dataframe tbody tr th:only-of-type {\n",
       "        vertical-align: middle;\n",
       "    }\n",
       "\n",
       "    .dataframe tbody tr th {\n",
       "        vertical-align: top;\n",
       "    }\n",
       "\n",
       "    .dataframe thead th {\n",
       "        text-align: right;\n",
       "    }\n",
       "</style>\n",
       "<table border=\"1\" class=\"dataframe\">\n",
       "  <thead>\n",
       "    <tr style=\"text-align: right;\">\n",
       "      <th></th>\n",
       "      <th>mean</th>\n",
       "      <th>median</th>\n",
       "      <th>mode</th>\n",
       "      <th>variance</th>\n",
       "      <th>std_dev</th>\n",
       "      <th>range</th>\n",
       "      <th>percentile_25</th>\n",
       "      <th>percentile_50</th>\n",
       "      <th>percentile_75</th>\n",
       "      <th>iqr</th>\n",
       "    </tr>\n",
       "  </thead>\n",
       "  <tbody>\n",
       "    <tr>\n",
       "      <th>Pregnancies</th>\n",
       "      <td>3.845052</td>\n",
       "      <td>3.0000</td>\n",
       "      <td>1.000</td>\n",
       "      <td>11.354056</td>\n",
       "      <td>3.369578</td>\n",
       "      <td>17.000</td>\n",
       "      <td>1.00000</td>\n",
       "      <td>3.0000</td>\n",
       "      <td>6.00000</td>\n",
       "      <td>5.0000</td>\n",
       "    </tr>\n",
       "    <tr>\n",
       "      <th>Glucose</th>\n",
       "      <td>120.894531</td>\n",
       "      <td>117.0000</td>\n",
       "      <td>99.000</td>\n",
       "      <td>1022.248314</td>\n",
       "      <td>31.972618</td>\n",
       "      <td>199.000</td>\n",
       "      <td>99.00000</td>\n",
       "      <td>117.0000</td>\n",
       "      <td>140.25000</td>\n",
       "      <td>41.2500</td>\n",
       "    </tr>\n",
       "    <tr>\n",
       "      <th>BloodPressure</th>\n",
       "      <td>69.105469</td>\n",
       "      <td>72.0000</td>\n",
       "      <td>70.000</td>\n",
       "      <td>374.647271</td>\n",
       "      <td>19.355807</td>\n",
       "      <td>122.000</td>\n",
       "      <td>62.00000</td>\n",
       "      <td>72.0000</td>\n",
       "      <td>80.00000</td>\n",
       "      <td>18.0000</td>\n",
       "    </tr>\n",
       "    <tr>\n",
       "      <th>SkinThickness</th>\n",
       "      <td>20.536458</td>\n",
       "      <td>23.0000</td>\n",
       "      <td>0.000</td>\n",
       "      <td>254.473245</td>\n",
       "      <td>15.952218</td>\n",
       "      <td>99.000</td>\n",
       "      <td>0.00000</td>\n",
       "      <td>23.0000</td>\n",
       "      <td>32.00000</td>\n",
       "      <td>32.0000</td>\n",
       "    </tr>\n",
       "    <tr>\n",
       "      <th>Insulin</th>\n",
       "      <td>79.799479</td>\n",
       "      <td>30.5000</td>\n",
       "      <td>0.000</td>\n",
       "      <td>13281.180078</td>\n",
       "      <td>115.244002</td>\n",
       "      <td>846.000</td>\n",
       "      <td>0.00000</td>\n",
       "      <td>30.5000</td>\n",
       "      <td>127.25000</td>\n",
       "      <td>127.2500</td>\n",
       "    </tr>\n",
       "    <tr>\n",
       "      <th>BMI</th>\n",
       "      <td>31.992578</td>\n",
       "      <td>32.0000</td>\n",
       "      <td>32.000</td>\n",
       "      <td>62.159984</td>\n",
       "      <td>7.884160</td>\n",
       "      <td>67.100</td>\n",
       "      <td>27.30000</td>\n",
       "      <td>32.0000</td>\n",
       "      <td>36.60000</td>\n",
       "      <td>9.3000</td>\n",
       "    </tr>\n",
       "    <tr>\n",
       "      <th>DiabetesPedigreeFunction</th>\n",
       "      <td>0.471876</td>\n",
       "      <td>0.3725</td>\n",
       "      <td>0.254</td>\n",
       "      <td>0.109779</td>\n",
       "      <td>0.331329</td>\n",
       "      <td>2.342</td>\n",
       "      <td>0.24375</td>\n",
       "      <td>0.3725</td>\n",
       "      <td>0.62625</td>\n",
       "      <td>0.3825</td>\n",
       "    </tr>\n",
       "    <tr>\n",
       "      <th>Age</th>\n",
       "      <td>33.240885</td>\n",
       "      <td>29.0000</td>\n",
       "      <td>22.000</td>\n",
       "      <td>138.303046</td>\n",
       "      <td>11.760232</td>\n",
       "      <td>60.000</td>\n",
       "      <td>24.00000</td>\n",
       "      <td>29.0000</td>\n",
       "      <td>41.00000</td>\n",
       "      <td>17.0000</td>\n",
       "    </tr>\n",
       "    <tr>\n",
       "      <th>Outcome</th>\n",
       "      <td>0.348958</td>\n",
       "      <td>0.0000</td>\n",
       "      <td>0.000</td>\n",
       "      <td>0.227483</td>\n",
       "      <td>0.476951</td>\n",
       "      <td>1.000</td>\n",
       "      <td>0.00000</td>\n",
       "      <td>0.0000</td>\n",
       "      <td>1.00000</td>\n",
       "      <td>1.0000</td>\n",
       "    </tr>\n",
       "  </tbody>\n",
       "</table>\n",
       "</div>"
      ],
      "text/plain": [
       "                                mean    median    mode      variance  \\\n",
       "Pregnancies                 3.845052    3.0000   1.000     11.354056   \n",
       "Glucose                   120.894531  117.0000  99.000   1022.248314   \n",
       "BloodPressure              69.105469   72.0000  70.000    374.647271   \n",
       "SkinThickness              20.536458   23.0000   0.000    254.473245   \n",
       "Insulin                    79.799479   30.5000   0.000  13281.180078   \n",
       "BMI                        31.992578   32.0000  32.000     62.159984   \n",
       "DiabetesPedigreeFunction    0.471876    0.3725   0.254      0.109779   \n",
       "Age                        33.240885   29.0000  22.000    138.303046   \n",
       "Outcome                     0.348958    0.0000   0.000      0.227483   \n",
       "\n",
       "                             std_dev    range  percentile_25  percentile_50  \\\n",
       "Pregnancies                 3.369578   17.000        1.00000         3.0000   \n",
       "Glucose                    31.972618  199.000       99.00000       117.0000   \n",
       "BloodPressure              19.355807  122.000       62.00000        72.0000   \n",
       "SkinThickness              15.952218   99.000        0.00000        23.0000   \n",
       "Insulin                   115.244002  846.000        0.00000        30.5000   \n",
       "BMI                         7.884160   67.100       27.30000        32.0000   \n",
       "DiabetesPedigreeFunction    0.331329    2.342        0.24375         0.3725   \n",
       "Age                        11.760232   60.000       24.00000        29.0000   \n",
       "Outcome                     0.476951    1.000        0.00000         0.0000   \n",
       "\n",
       "                          percentile_75       iqr  \n",
       "Pregnancies                     6.00000    5.0000  \n",
       "Glucose                       140.25000   41.2500  \n",
       "BloodPressure                  80.00000   18.0000  \n",
       "SkinThickness                  32.00000   32.0000  \n",
       "Insulin                       127.25000  127.2500  \n",
       "BMI                            36.60000    9.3000  \n",
       "DiabetesPedigreeFunction        0.62625    0.3825  \n",
       "Age                            41.00000   17.0000  \n",
       "Outcome                         1.00000    1.0000  "
      ]
     },
     "execution_count": 31,
     "metadata": {},
     "output_type": "execute_result"
    }
   ],
   "source": [
    "import numpy as np\n",
    "from scipy import stats\n",
    "\n",
    "# Tính toán các thống kê mô tả cho từng cột số liệu\n",
    "desc_stats = {}\n",
    "\n",
    "for col in diabetes_data.columns:\n",
    "    if diabetes_data[col].dtype in [np.float64, np.int64]:\n",
    "        data = diabetes_data[col].values\n",
    "\n",
    "        mean = np.mean(data)\n",
    "        median = np.median(data)\n",
    "        mode = stats.mode(data, keepdims=True)[0][0]\n",
    "        var = np.var(data, ddof=1)\n",
    "        std = np.std(data, ddof=1)\n",
    "        data_range = np.ptp(data)\n",
    "        percentile_25 = np.percentile(data, 25)\n",
    "        percentile_50 = np.percentile(data, 50)\n",
    "        percentile_75 = np.percentile(data, 75)\n",
    "        iqr = stats.iqr(data)\n",
    "        \n",
    "        desc_stats[col] = {\n",
    "            'mean': mean,\n",
    "            'median': median,\n",
    "            'mode': mode,\n",
    "            'variance': var,\n",
    "            'std_dev': std,\n",
    "            'range': data_range,\n",
    "            'percentile_25': percentile_25,\n",
    "            'percentile_50': percentile_50,\n",
    "            'percentile_75': percentile_75,\n",
    "            'iqr': iqr\n",
    "        }\n",
    "\n",
    "desc_stats_df = pd.DataFrame(desc_stats).T\n",
    "desc_stats_df\n"
   ]
  },
  {
   "cell_type": "markdown",
   "id": "50096463",
   "metadata": {},
   "source": [
    "## 4. Kiểm tra dữ liệu bất hợp lý"
   ]
  },
  {
   "cell_type": "markdown",
   "id": "c762e295",
   "metadata": {},
   "source": [
    "Chúng ta sẽ kiểm tra các bộ dữ liệu trên tập dữ liệu để tìm ra bộ dữ liệu không hợp lý (BMI = 0, Glucose = 0,...)"
   ]
  },
  {
   "cell_type": "code",
   "execution_count": 32,
   "id": "94c8737e",
   "metadata": {},
   "outputs": [
    {
     "name": "stdout",
     "output_type": "stream",
     "text": [
      "Số dòng có giá trị bất hợp lý: 376\n"
     ]
    },
    {
     "data": {
      "application/vnd.microsoft.datawrangler.viewer.v0+json": {
       "columns": [
        {
         "name": "index",
         "rawType": "int64",
         "type": "integer"
        },
        {
         "name": "Pregnancies",
         "rawType": "float64",
         "type": "float"
        },
        {
         "name": "Glucose",
         "rawType": "float64",
         "type": "float"
        },
        {
         "name": "BloodPressure",
         "rawType": "float64",
         "type": "float"
        },
        {
         "name": "SkinThickness",
         "rawType": "float64",
         "type": "float"
        },
        {
         "name": "Insulin",
         "rawType": "float64",
         "type": "float"
        },
        {
         "name": "BMI",
         "rawType": "float64",
         "type": "float"
        },
        {
         "name": "DiabetesPedigreeFunction",
         "rawType": "float64",
         "type": "float"
        },
        {
         "name": "Age",
         "rawType": "float64",
         "type": "float"
        },
        {
         "name": "Outcome",
         "rawType": "float64",
         "type": "float"
        }
       ],
       "ref": "847ab8c9-7b1d-4a2c-9d6e-5395e6c69625",
       "rows": [
        [
         "0",
         "6.0",
         "148.0",
         "72.0",
         "35.0",
         "0.0",
         "33.6",
         "0.627",
         "50.0",
         "1.0"
        ],
        [
         "1",
         "1.0",
         "85.0",
         "66.0",
         "29.0",
         "0.0",
         "26.6",
         "0.351",
         "31.0",
         "0.0"
        ],
        [
         "2",
         "8.0",
         "183.0",
         "64.0",
         "0.0",
         "0.0",
         "23.3",
         "0.672",
         "32.0",
         "1.0"
        ],
        [
         "5",
         "5.0",
         "116.0",
         "74.0",
         "0.0",
         "0.0",
         "25.6",
         "0.201",
         "30.0",
         "0.0"
        ],
        [
         "7",
         "10.0",
         "115.0",
         "0.0",
         "0.0",
         "0.0",
         "35.3",
         "0.134",
         "29.0",
         "0.0"
        ],
        [
         "9",
         "8.0",
         "125.0",
         "96.0",
         "0.0",
         "0.0",
         "0.0",
         "0.232",
         "54.0",
         "1.0"
        ],
        [
         "10",
         "4.0",
         "110.0",
         "92.0",
         "0.0",
         "0.0",
         "37.6",
         "0.191",
         "30.0",
         "0.0"
        ],
        [
         "11",
         "10.0",
         "168.0",
         "74.0",
         "0.0",
         "0.0",
         "38.0",
         "0.537",
         "34.0",
         "1.0"
        ],
        [
         "12",
         "10.0",
         "139.0",
         "80.0",
         "0.0",
         "0.0",
         "27.1",
         "1.441",
         "57.0",
         "0.0"
        ],
        [
         "15",
         "7.0",
         "100.0",
         "0.0",
         "0.0",
         "0.0",
         "30.0",
         "0.484",
         "32.0",
         "1.0"
        ],
        [
         "17",
         "7.0",
         "107.0",
         "74.0",
         "0.0",
         "0.0",
         "29.6",
         "0.254",
         "31.0",
         "1.0"
        ],
        [
         "21",
         "8.0",
         "99.0",
         "84.0",
         "0.0",
         "0.0",
         "35.4",
         "0.388",
         "50.0",
         "0.0"
        ],
        [
         "22",
         "7.0",
         "196.0",
         "90.0",
         "0.0",
         "0.0",
         "39.8",
         "0.451",
         "41.0",
         "1.0"
        ],
        [
         "23",
         "9.0",
         "119.0",
         "80.0",
         "35.0",
         "0.0",
         "29.0",
         "0.263",
         "29.0",
         "1.0"
        ],
        [
         "26",
         "7.0",
         "147.0",
         "76.0",
         "0.0",
         "0.0",
         "39.4",
         "0.257",
         "43.0",
         "1.0"
        ],
        [
         "29",
         "5.0",
         "117.0",
         "92.0",
         "0.0",
         "0.0",
         "34.1",
         "0.337",
         "38.0",
         "0.0"
        ],
        [
         "30",
         "5.0",
         "109.0",
         "75.0",
         "26.0",
         "0.0",
         "36.0",
         "0.546",
         "60.0",
         "0.0"
        ],
        [
         "33",
         "6.0",
         "92.0",
         "92.0",
         "0.0",
         "0.0",
         "19.9",
         "0.188",
         "28.0",
         "0.0"
        ],
        [
         "34",
         "10.0",
         "122.0",
         "78.0",
         "31.0",
         "0.0",
         "27.6",
         "0.512",
         "45.0",
         "0.0"
        ],
        [
         "36",
         "11.0",
         "138.0",
         "76.0",
         "0.0",
         "0.0",
         "33.2",
         "0.42",
         "35.0",
         "0.0"
        ],
        [
         "37",
         "9.0",
         "102.0",
         "76.0",
         "37.0",
         "0.0",
         "32.9",
         "0.665",
         "46.0",
         "1.0"
        ],
        [
         "38",
         "2.0",
         "90.0",
         "68.0",
         "42.0",
         "0.0",
         "38.2",
         "0.503",
         "27.0",
         "1.0"
        ],
        [
         "41",
         "7.0",
         "133.0",
         "84.0",
         "0.0",
         "0.0",
         "40.2",
         "0.696",
         "37.0",
         "0.0"
        ],
        [
         "42",
         "7.0",
         "106.0",
         "92.0",
         "18.0",
         "0.0",
         "22.7",
         "0.235",
         "48.0",
         "0.0"
        ],
        [
         "44",
         "7.0",
         "159.0",
         "64.0",
         "0.0",
         "0.0",
         "27.4",
         "0.294",
         "40.0",
         "0.0"
        ],
        [
         "45",
         "0.0",
         "180.0",
         "66.0",
         "39.0",
         "0.0",
         "42.0",
         "1.893",
         "25.0",
         "1.0"
        ],
        [
         "46",
         "1.0",
         "146.0",
         "56.0",
         "0.0",
         "0.0",
         "29.7",
         "0.564",
         "29.0",
         "0.0"
        ],
        [
         "47",
         "2.0",
         "71.0",
         "70.0",
         "27.0",
         "0.0",
         "28.0",
         "0.586",
         "22.0",
         "0.0"
        ],
        [
         "48",
         "7.0",
         "103.0",
         "66.0",
         "32.0",
         "0.0",
         "39.1",
         "0.344",
         "31.0",
         "1.0"
        ],
        [
         "49",
         "7.0",
         "105.0",
         "0.0",
         "0.0",
         "0.0",
         "0.0",
         "0.305",
         "24.0",
         "0.0"
        ],
        [
         "55",
         "1.0",
         "73.0",
         "50.0",
         "10.0",
         "0.0",
         "23.0",
         "0.248",
         "21.0",
         "0.0"
        ],
        [
         "58",
         "0.0",
         "146.0",
         "82.0",
         "0.0",
         "0.0",
         "40.5",
         "1.781",
         "44.0",
         "0.0"
        ],
        [
         "60",
         "2.0",
         "84.0",
         "0.0",
         "0.0",
         "0.0",
         "0.0",
         "0.304",
         "21.0",
         "0.0"
        ],
        [
         "61",
         "8.0",
         "133.0",
         "72.0",
         "0.0",
         "0.0",
         "32.9",
         "0.27",
         "39.0",
         "1.0"
        ],
        [
         "62",
         "5.0",
         "44.0",
         "62.0",
         "0.0",
         "0.0",
         "25.0",
         "0.587",
         "36.0",
         "0.0"
        ],
        [
         "64",
         "7.0",
         "114.0",
         "66.0",
         "0.0",
         "0.0",
         "32.8",
         "0.258",
         "42.0",
         "1.0"
        ],
        [
         "65",
         "5.0",
         "99.0",
         "74.0",
         "27.0",
         "0.0",
         "29.0",
         "0.203",
         "32.0",
         "0.0"
        ],
        [
         "66",
         "0.0",
         "109.0",
         "88.0",
         "30.0",
         "0.0",
         "32.5",
         "0.855",
         "38.0",
         "1.0"
        ],
        [
         "67",
         "2.0",
         "109.0",
         "92.0",
         "0.0",
         "0.0",
         "42.7",
         "0.845",
         "54.0",
         "0.0"
        ],
        [
         "72",
         "13.0",
         "126.0",
         "90.0",
         "0.0",
         "0.0",
         "43.4",
         "0.583",
         "42.0",
         "1.0"
        ],
        [
         "74",
         "1.0",
         "79.0",
         "75.0",
         "30.0",
         "0.0",
         "32.0",
         "0.396",
         "22.0",
         "0.0"
        ],
        [
         "75",
         "1.0",
         "0.0",
         "48.0",
         "20.0",
         "0.0",
         "24.7",
         "0.14",
         "22.0",
         "0.0"
        ],
        [
         "76",
         "7.0",
         "62.0",
         "78.0",
         "0.0",
         "0.0",
         "32.6",
         "0.391",
         "41.0",
         "0.0"
        ],
        [
         "77",
         "5.0",
         "95.0",
         "72.0",
         "33.0",
         "0.0",
         "37.7",
         "0.37",
         "27.0",
         "0.0"
        ],
        [
         "78",
         "0.0",
         "131.0",
         "0.0",
         "0.0",
         "0.0",
         "43.2",
         "0.27",
         "26.0",
         "1.0"
        ],
        [
         "79",
         "2.0",
         "112.0",
         "66.0",
         "22.0",
         "0.0",
         "25.0",
         "0.307",
         "24.0",
         "0.0"
        ],
        [
         "80",
         "3.0",
         "113.0",
         "44.0",
         "13.0",
         "0.0",
         "22.4",
         "0.14",
         "22.0",
         "0.0"
        ],
        [
         "81",
         "2.0",
         "74.0",
         "0.0",
         "0.0",
         "0.0",
         "0.0",
         "0.102",
         "22.0",
         "0.0"
        ],
        [
         "83",
         "0.0",
         "101.0",
         "65.0",
         "28.0",
         "0.0",
         "24.6",
         "0.237",
         "22.0",
         "0.0"
        ],
        [
         "84",
         "5.0",
         "137.0",
         "108.0",
         "0.0",
         "0.0",
         "48.8",
         "0.227",
         "37.0",
         "1.0"
        ]
       ],
       "shape": {
        "columns": 9,
        "rows": 376
       }
      },
      "text/html": [
       "<div>\n",
       "<style scoped>\n",
       "    .dataframe tbody tr th:only-of-type {\n",
       "        vertical-align: middle;\n",
       "    }\n",
       "\n",
       "    .dataframe tbody tr th {\n",
       "        vertical-align: top;\n",
       "    }\n",
       "\n",
       "    .dataframe thead th {\n",
       "        text-align: right;\n",
       "    }\n",
       "</style>\n",
       "<table border=\"1\" class=\"dataframe\">\n",
       "  <thead>\n",
       "    <tr style=\"text-align: right;\">\n",
       "      <th></th>\n",
       "      <th>Pregnancies</th>\n",
       "      <th>Glucose</th>\n",
       "      <th>BloodPressure</th>\n",
       "      <th>SkinThickness</th>\n",
       "      <th>Insulin</th>\n",
       "      <th>BMI</th>\n",
       "      <th>DiabetesPedigreeFunction</th>\n",
       "      <th>Age</th>\n",
       "      <th>Outcome</th>\n",
       "    </tr>\n",
       "  </thead>\n",
       "  <tbody>\n",
       "    <tr>\n",
       "      <th>0</th>\n",
       "      <td>6.0</td>\n",
       "      <td>148.0</td>\n",
       "      <td>72.0</td>\n",
       "      <td>35.0</td>\n",
       "      <td>0.0</td>\n",
       "      <td>33.6</td>\n",
       "      <td>0.627</td>\n",
       "      <td>50.0</td>\n",
       "      <td>1.0</td>\n",
       "    </tr>\n",
       "    <tr>\n",
       "      <th>1</th>\n",
       "      <td>1.0</td>\n",
       "      <td>85.0</td>\n",
       "      <td>66.0</td>\n",
       "      <td>29.0</td>\n",
       "      <td>0.0</td>\n",
       "      <td>26.6</td>\n",
       "      <td>0.351</td>\n",
       "      <td>31.0</td>\n",
       "      <td>0.0</td>\n",
       "    </tr>\n",
       "    <tr>\n",
       "      <th>2</th>\n",
       "      <td>8.0</td>\n",
       "      <td>183.0</td>\n",
       "      <td>64.0</td>\n",
       "      <td>0.0</td>\n",
       "      <td>0.0</td>\n",
       "      <td>23.3</td>\n",
       "      <td>0.672</td>\n",
       "      <td>32.0</td>\n",
       "      <td>1.0</td>\n",
       "    </tr>\n",
       "    <tr>\n",
       "      <th>5</th>\n",
       "      <td>5.0</td>\n",
       "      <td>116.0</td>\n",
       "      <td>74.0</td>\n",
       "      <td>0.0</td>\n",
       "      <td>0.0</td>\n",
       "      <td>25.6</td>\n",
       "      <td>0.201</td>\n",
       "      <td>30.0</td>\n",
       "      <td>0.0</td>\n",
       "    </tr>\n",
       "    <tr>\n",
       "      <th>7</th>\n",
       "      <td>10.0</td>\n",
       "      <td>115.0</td>\n",
       "      <td>0.0</td>\n",
       "      <td>0.0</td>\n",
       "      <td>0.0</td>\n",
       "      <td>35.3</td>\n",
       "      <td>0.134</td>\n",
       "      <td>29.0</td>\n",
       "      <td>0.0</td>\n",
       "    </tr>\n",
       "    <tr>\n",
       "      <th>...</th>\n",
       "      <td>...</td>\n",
       "      <td>...</td>\n",
       "      <td>...</td>\n",
       "      <td>...</td>\n",
       "      <td>...</td>\n",
       "      <td>...</td>\n",
       "      <td>...</td>\n",
       "      <td>...</td>\n",
       "      <td>...</td>\n",
       "    </tr>\n",
       "    <tr>\n",
       "      <th>761</th>\n",
       "      <td>9.0</td>\n",
       "      <td>170.0</td>\n",
       "      <td>74.0</td>\n",
       "      <td>31.0</td>\n",
       "      <td>0.0</td>\n",
       "      <td>44.0</td>\n",
       "      <td>0.403</td>\n",
       "      <td>43.0</td>\n",
       "      <td>1.0</td>\n",
       "    </tr>\n",
       "    <tr>\n",
       "      <th>762</th>\n",
       "      <td>9.0</td>\n",
       "      <td>89.0</td>\n",
       "      <td>62.0</td>\n",
       "      <td>0.0</td>\n",
       "      <td>0.0</td>\n",
       "      <td>22.5</td>\n",
       "      <td>0.142</td>\n",
       "      <td>33.0</td>\n",
       "      <td>0.0</td>\n",
       "    </tr>\n",
       "    <tr>\n",
       "      <th>764</th>\n",
       "      <td>2.0</td>\n",
       "      <td>122.0</td>\n",
       "      <td>70.0</td>\n",
       "      <td>27.0</td>\n",
       "      <td>0.0</td>\n",
       "      <td>36.8</td>\n",
       "      <td>0.340</td>\n",
       "      <td>27.0</td>\n",
       "      <td>0.0</td>\n",
       "    </tr>\n",
       "    <tr>\n",
       "      <th>766</th>\n",
       "      <td>1.0</td>\n",
       "      <td>126.0</td>\n",
       "      <td>60.0</td>\n",
       "      <td>0.0</td>\n",
       "      <td>0.0</td>\n",
       "      <td>30.1</td>\n",
       "      <td>0.349</td>\n",
       "      <td>47.0</td>\n",
       "      <td>1.0</td>\n",
       "    </tr>\n",
       "    <tr>\n",
       "      <th>767</th>\n",
       "      <td>1.0</td>\n",
       "      <td>93.0</td>\n",
       "      <td>70.0</td>\n",
       "      <td>31.0</td>\n",
       "      <td>0.0</td>\n",
       "      <td>30.4</td>\n",
       "      <td>0.315</td>\n",
       "      <td>23.0</td>\n",
       "      <td>0.0</td>\n",
       "    </tr>\n",
       "  </tbody>\n",
       "</table>\n",
       "<p>376 rows × 9 columns</p>\n",
       "</div>"
      ],
      "text/plain": [
       "     Pregnancies  Glucose  BloodPressure  SkinThickness  Insulin   BMI  \\\n",
       "0            6.0    148.0           72.0           35.0      0.0  33.6   \n",
       "1            1.0     85.0           66.0           29.0      0.0  26.6   \n",
       "2            8.0    183.0           64.0            0.0      0.0  23.3   \n",
       "5            5.0    116.0           74.0            0.0      0.0  25.6   \n",
       "7           10.0    115.0            0.0            0.0      0.0  35.3   \n",
       "..           ...      ...            ...            ...      ...   ...   \n",
       "761          9.0    170.0           74.0           31.0      0.0  44.0   \n",
       "762          9.0     89.0           62.0            0.0      0.0  22.5   \n",
       "764          2.0    122.0           70.0           27.0      0.0  36.8   \n",
       "766          1.0    126.0           60.0            0.0      0.0  30.1   \n",
       "767          1.0     93.0           70.0           31.0      0.0  30.4   \n",
       "\n",
       "     DiabetesPedigreeFunction   Age  Outcome  \n",
       "0                       0.627  50.0      1.0  \n",
       "1                       0.351  31.0      0.0  \n",
       "2                       0.672  32.0      1.0  \n",
       "5                       0.201  30.0      0.0  \n",
       "7                       0.134  29.0      0.0  \n",
       "..                        ...   ...      ...  \n",
       "761                     0.403  43.0      1.0  \n",
       "762                     0.142  33.0      0.0  \n",
       "764                     0.340  27.0      0.0  \n",
       "766                     0.349  47.0      1.0  \n",
       "767                     0.315  23.0      0.0  \n",
       "\n",
       "[376 rows x 9 columns]"
      ]
     },
     "metadata": {},
     "output_type": "display_data"
    }
   ],
   "source": [
    "# Kiểm tra các dòng có giá trị bất hợp lý (BMI = 0, Glucose = 0, BloodPressure = 0, SkinThickness = 0, Insulin = 0)\n",
    "unreasonable_rows = diabetes_data[\n",
    "    (diabetes_data['BMI'] == 0) |\n",
    "    (diabetes_data['Glucose'] == 0) |\n",
    "    (diabetes_data['BloodPressure'] == 0) |\n",
    "    (diabetes_data['SkinThickness'] == 0) |\n",
    "    (diabetes_data['Insulin'] == 0)\n",
    "]\n",
    "\n",
    "print(f\"Số dòng có giá trị bất hợp lý: {len(unreasonable_rows)}\")\n",
    "display(unreasonable_rows)\n"
   ]
  },
  {
   "cell_type": "markdown",
   "id": "bf6237e3",
   "metadata": {},
   "source": [
    "Tiếp theo chúng ta sẽ xử lý các dòng dữ liệu bất hợp lý này"
   ]
  },
  {
   "cell_type": "code",
   "execution_count": 33,
   "id": "1b493d55",
   "metadata": {},
   "outputs": [],
   "source": [
    "# Thay thế giá trị 0 ở các cột y tế bằng NaN\n",
    "cols_to_replace = ['Glucose', 'BloodPressure', 'SkinThickness', 'Insulin', 'BMI']\n",
    "diabetes_data[cols_to_replace] = diabetes_data[cols_to_replace].replace(0, np.nan)\n",
    "\n",
    "# Xử lý: điền bằng trung vị (median) của từng cột\n",
    "for col in cols_to_replace:\n",
    "    median_value = diabetes_data[col].median()\n",
    "    diabetes_data[col] = diabetes_data[col].fillna(median_value)\n"
   ]
  },
  {
   "cell_type": "markdown",
   "id": "7c9547c0",
   "metadata": {},
   "source": [
    "Sau đó, ta sẽ kiểm tra lại một lần nữa các dòng dữ liệu đã xử lý này"
   ]
  },
  {
   "cell_type": "code",
   "execution_count": null,
   "id": "441e6d87",
   "metadata": {},
   "outputs": [],
   "source": [
    "# Kiểm tra lại các dòng dữ liệu bất hợp lý sau khi đã xử lý (không còn giá trị 0 ở các cột y tế)\n",
    "unreasonable_rows_after = diabetes_data[\n",
    "    (diabetes_data['BMI'] == 0) |\n",
    "    (diabetes_data['Glucose'] == 0) |\n",
    "    (diabetes_data['BloodPressure'] == 0) |\n",
    "    (diabetes_data['SkinThickness'] == 0) |\n",
    "    (diabetes_data['Insulin'] == 0)\n",
    "]\n",
    "\n",
    "print(f\"Số dòng có giá trị bất hợp lý sau xử lý: {len(unreasonable_rows_after)}\")\n",
    "display(unreasonable_rows_after)\n"
   ]
  }
 ],
 "metadata": {
  "kernelspec": {
   "display_name": "base",
   "language": "python",
   "name": "python3"
  },
  "language_info": {
   "codemirror_mode": {
    "name": "ipython",
    "version": 3
   },
   "file_extension": ".py",
   "mimetype": "text/x-python",
   "name": "python",
   "nbconvert_exporter": "python",
   "pygments_lexer": "ipython3",
   "version": "3.12.7"
  }
 },
 "nbformat": 4,
 "nbformat_minor": 5
}
