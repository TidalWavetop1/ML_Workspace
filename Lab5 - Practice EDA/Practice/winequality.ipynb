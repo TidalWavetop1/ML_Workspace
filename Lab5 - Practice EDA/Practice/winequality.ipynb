{
 "cells": [
  {
   "cell_type": "markdown",
   "id": "ed7db558",
   "metadata": {
    "notebookRunGroups": {
     "groupValue": "2"
    }
   },
   "source": [
    "# Thống kê mô tả trên tập dữ liệu về phân loại chất lượng rượu đỏ"
   ]
  },
  {
   "cell_type": "markdown",
   "id": "52993a84",
   "metadata": {},
   "source": [
    "## 1. Chuẩn bị dữ liệu"
   ]
  },
  {
   "cell_type": "code",
   "execution_count": null,
   "id": "fa5a301a",
   "metadata": {},
   "outputs": [],
   "source": [
    "import pandas as pd \n",
    "wine_data = pd.read_csv(\"winequality-red.csv\")\n",
    "wine_data = wine_data[['fixed acidity', 'volatile acidity', 'citric acid', 'residual sugar', 'chlorides', 'free sulfur dioxide', 'total sulfur dioxide', 'density', 'pH', 'sulphates', 'alcohol', 'quality']]\n",
    "display(wine_data.head())\n"
   ]
  },
  {
   "cell_type": "markdown",
   "id": "fe924817",
   "metadata": {},
   "source": [
    "## 2. Loại bỏ dữ liệu trùng lặp"
   ]
  },
  {
   "cell_type": "markdown",
   "id": "00753615",
   "metadata": {},
   "source": [
    "Trước hết, chúng ta cần kiểm tra xem có dữ liệu trùng lặp hay không"
   ]
  },
  {
   "cell_type": "code",
   "execution_count": 9,
   "id": "db0c2b82",
   "metadata": {},
   "outputs": [
    {
     "data": {
      "text/plain": [
       "240"
      ]
     },
     "execution_count": 9,
     "metadata": {},
     "output_type": "execute_result"
    }
   ],
   "source": [
    "duplicate_count = wine_data.duplicated().sum()\n",
    "duplicate_count\n"
   ]
  },
  {
   "cell_type": "markdown",
   "id": "c65a5b9a",
   "metadata": {},
   "source": [
    "Sau khi kiểm tra, ta nhận thấy có rất nhiều dòng dữ liệu trùng lặp, nên chúng ta sẽ thực hiện loại bỏ (ở đây có 240 dòng dữ liệu trùng lặp)"
   ]
  },
  {
   "cell_type": "code",
   "execution_count": 10,
   "id": "a60f6311",
   "metadata": {},
   "outputs": [],
   "source": [
    "wine_data.head()\n",
    "wine_data = wine_data.drop_duplicates()\n"
   ]
  },
  {
   "cell_type": "markdown",
   "id": "f828998b",
   "metadata": {},
   "source": [
    "## 3. Thay thế dữ liệu thiếu, thay đổi định dạng của dữ liệu"
   ]
  },
  {
   "cell_type": "markdown",
   "id": "73235823",
   "metadata": {},
   "source": [
    "Trước hết, cần kiểm tra định dạng của bộ dữ liệu "
   ]
  },
  {
   "cell_type": "code",
   "execution_count": null,
   "id": "2a507294",
   "metadata": {},
   "outputs": [
    {
     "data": {
      "application/vnd.microsoft.datawrangler.viewer.v0+json": {
       "columns": [
        {
         "name": "index",
         "rawType": "object",
         "type": "string"
        },
        {
         "name": "0",
         "rawType": "object",
         "type": "unknown"
        }
       ],
       "ref": "010d9521-e423-47e7-8872-2f0bd69e92dd",
       "rows": [
        [
         "fixed acidity",
         "float64"
        ],
        [
         "volatile acidity",
         "float64"
        ],
        [
         "citric acid",
         "float64"
        ],
        [
         "residual sugar",
         "float64"
        ],
        [
         "chlorides",
         "float64"
        ],
        [
         "free sulfur dioxide",
         "float64"
        ],
        [
         "total sulfur dioxide",
         "float64"
        ],
        [
         "density",
         "float64"
        ],
        [
         "pH",
         "float64"
        ],
        [
         "sulphates",
         "float64"
        ],
        [
         "alcohol",
         "float64"
        ],
        [
         "quality",
         "int64"
        ]
       ],
       "shape": {
        "columns": 1,
        "rows": 12
       }
      },
      "text/plain": [
       "fixed acidity           float64\n",
       "volatile acidity        float64\n",
       "citric acid             float64\n",
       "residual sugar          float64\n",
       "chlorides               float64\n",
       "free sulfur dioxide     float64\n",
       "total sulfur dioxide    float64\n",
       "density                 float64\n",
       "pH                      float64\n",
       "sulphates               float64\n",
       "alcohol                 float64\n",
       "quality                   int64\n",
       "dtype: object"
      ]
     },
     "execution_count": 11,
     "metadata": {},
     "output_type": "execute_result"
    }
   ],
   "source": [
    "wine_data_info = wine_data.dtypes\n",
    "wine_data_info\n"
   ]
  },
  {
   "cell_type": "markdown",
   "id": "6b747c07",
   "metadata": {},
   "source": [
    "Sau khi kiểm tra, ta nhận thấy các định dạng đều đồng nhất, và không có vấn đề gì, nên ta bỏ qua bước này. Tiếp theo chúng ta sẽ kiểm tra xem bộ dữ liệu này có bị thiếu hay không (kiêm tra xem bộ nào không có dữ liệu từng cột, hoặc dữ liệu = 0)"
   ]
  },
  {
   "cell_type": "code",
   "execution_count": 14,
   "id": "2d135720",
   "metadata": {},
   "outputs": [
    {
     "data": {
      "application/vnd.microsoft.datawrangler.viewer.v0+json": {
       "columns": [
        {
         "name": "index",
         "rawType": "object",
         "type": "string"
        },
        {
         "name": "0",
         "rawType": "int64",
         "type": "integer"
        }
       ],
       "ref": "64c43bf8-3b02-47d2-9e80-62b58d655d4e",
       "rows": [
        [
         "fixed acidity",
         "0"
        ],
        [
         "volatile acidity",
         "0"
        ],
        [
         "citric acid",
         "0"
        ],
        [
         "residual sugar",
         "0"
        ],
        [
         "chlorides",
         "0"
        ],
        [
         "free sulfur dioxide",
         "0"
        ],
        [
         "total sulfur dioxide",
         "0"
        ],
        [
         "density",
         "0"
        ],
        [
         "pH",
         "0"
        ],
        [
         "sulphates",
         "0"
        ],
        [
         "alcohol",
         "0"
        ],
        [
         "quality",
         "0"
        ]
       ],
       "shape": {
        "columns": 1,
        "rows": 12
       }
      },
      "text/plain": [
       "fixed acidity           0\n",
       "volatile acidity        0\n",
       "citric acid             0\n",
       "residual sugar          0\n",
       "chlorides               0\n",
       "free sulfur dioxide     0\n",
       "total sulfur dioxide    0\n",
       "density                 0\n",
       "pH                      0\n",
       "sulphates               0\n",
       "alcohol                 0\n",
       "quality                 0\n",
       "dtype: int64"
      ]
     },
     "execution_count": 14,
     "metadata": {},
     "output_type": "execute_result"
    }
   ],
   "source": [
    "missing_info = wine_data.isnull().sum()\n",
    "missing_info\n"
   ]
  },
  {
   "cell_type": "markdown",
   "id": "4d1fdf0e",
   "metadata": {},
   "source": [
    "Dựa vào kết quả kiểm tra này, ta kết luận bộ dữ liệu này đã đồng nhất về định dạng, và không có dữ liệu bị thiếu."
   ]
  },
  {
   "cell_type": "markdown",
   "id": "ea0674b6",
   "metadata": {},
   "source": [
    "## 4. Tính toán và thống kê mô tả "
   ]
  },
  {
   "cell_type": "markdown",
   "id": "1cb76e1e",
   "metadata": {},
   "source": [
    "Tới đây, ta sẽ thống kê mô tả bộ dữ liệu này."
   ]
  },
  {
   "cell_type": "code",
   "execution_count": null,
   "id": "04e6dcd8",
   "metadata": {},
   "outputs": [
    {
     "data": {
      "application/vnd.microsoft.datawrangler.viewer.v0+json": {
       "columns": [
        {
         "name": "index",
         "rawType": "object",
         "type": "string"
        },
        {
         "name": "mean",
         "rawType": "float64",
         "type": "float"
        },
        {
         "name": "median",
         "rawType": "float64",
         "type": "float"
        },
        {
         "name": "mode",
         "rawType": "float64",
         "type": "float"
        },
        {
         "name": "variance",
         "rawType": "float64",
         "type": "float"
        },
        {
         "name": "std_dev",
         "rawType": "float64",
         "type": "float"
        },
        {
         "name": "range",
         "rawType": "float64",
         "type": "float"
        },
        {
         "name": "percentile_25",
         "rawType": "float64",
         "type": "float"
        },
        {
         "name": "percentile_50",
         "rawType": "float64",
         "type": "float"
        },
        {
         "name": "percentile_75",
         "rawType": "float64",
         "type": "float"
        },
        {
         "name": "iqr",
         "rawType": "float64",
         "type": "float"
        }
       ],
       "ref": "92c1d2f2-a1f0-4517-8b5c-1e89376115d4",
       "rows": [
        [
         "fixed acidity",
         "8.310596026490067",
         "7.9",
         "7.2",
         "3.0171335914716813",
         "1.7369898075324683",
         "11.3",
         "7.1",
         "7.9",
         "9.2",
         "2.0999999999999996"
        ],
        [
         "volatile acidity",
         "0.5294775570272259",
         "0.52",
         "0.5",
         "0.033500463229373584",
         "0.1830313176190719",
         "1.46",
         "0.39",
         "0.52",
         "0.64",
         "0.25"
        ],
        [
         "citric acid",
         "0.2723325974981604",
         "0.26",
         "0.0",
         "0.038234540254735515",
         "0.1955365445504638",
         "1.0",
         "0.09",
         "0.26",
         "0.43",
         "0.33999999999999997"
        ],
        [
         "residual sugar",
         "2.5233995584988964",
         "2.2",
         "2.0",
         "1.8287524992928832",
         "1.3523137577104225",
         "14.6",
         "1.9",
         "2.2",
         "2.6",
         "0.7000000000000002"
        ],
        [
         "chlorides",
         "0.08812362030905076",
         "0.079",
         "0.08",
         "0.002438074544762945",
         "0.04937686244348607",
         "0.599",
         "0.07",
         "0.079",
         "0.091",
         "0.02099999999999999"
        ],
        [
         "free sulfur dioxide",
         "15.893303899926417",
         "14.0",
         "6.0",
         "109.14545586560335",
         "10.447270259048693",
         "71.0",
         "7.0",
         "14.0",
         "21.0",
         "14.0"
        ],
        [
         "total sulfur dioxide",
         "46.82597498160412",
         "38.0",
         "28.0",
         "1116.1576532276504",
         "33.40894570661652",
         "283.0",
         "22.0",
         "38.0",
         "63.0",
         "41.0"
        ],
        [
         "density",
         "0.9967089477557026",
         "0.9967",
         "0.9968",
         "3.492851248373083e-06",
         "0.0018689171325591413",
         "0.013619999999999965",
         "0.9956",
         "0.9967",
         "0.99782",
         "0.0022199999999999998"
        ],
        [
         "pH",
         "3.309786607799853",
         "3.31",
         "3.3",
         "0.024036257817571394",
         "0.15503631128729617",
         "1.2699999999999996",
         "3.21",
         "3.31",
         "3.4",
         "0.18999999999999995"
        ],
        [
         "sulphates",
         "0.6587049300956587",
         "0.62",
         "0.54",
         "0.029127187538268304",
         "0.17066689057420686",
         "1.67",
         "0.55",
         "0.62",
         "0.73",
         "0.17999999999999994"
        ],
        [
         "alcohol",
         "10.432315428010792",
         "10.2",
         "9.5",
         "1.170865637954405",
         "1.0820654499402542",
         "6.5",
         "9.5",
         "10.2",
         "11.1",
         "1.5999999999999996"
        ],
        [
         "quality",
         "5.6232523914643116",
         "6.0",
         "5.0",
         "0.6782807249114343",
         "0.8235780017165553",
         "5.0",
         "5.0",
         "6.0",
         "6.0",
         "1.0"
        ]
       ],
       "shape": {
        "columns": 10,
        "rows": 12
       }
      },
      "text/html": [
       "<div>\n",
       "<style scoped>\n",
       "    .dataframe tbody tr th:only-of-type {\n",
       "        vertical-align: middle;\n",
       "    }\n",
       "\n",
       "    .dataframe tbody tr th {\n",
       "        vertical-align: top;\n",
       "    }\n",
       "\n",
       "    .dataframe thead th {\n",
       "        text-align: right;\n",
       "    }\n",
       "</style>\n",
       "<table border=\"1\" class=\"dataframe\">\n",
       "  <thead>\n",
       "    <tr style=\"text-align: right;\">\n",
       "      <th></th>\n",
       "      <th>mean</th>\n",
       "      <th>median</th>\n",
       "      <th>mode</th>\n",
       "      <th>variance</th>\n",
       "      <th>std_dev</th>\n",
       "      <th>range</th>\n",
       "      <th>percentile_25</th>\n",
       "      <th>percentile_50</th>\n",
       "      <th>percentile_75</th>\n",
       "      <th>iqr</th>\n",
       "    </tr>\n",
       "  </thead>\n",
       "  <tbody>\n",
       "    <tr>\n",
       "      <th>fixed acidity</th>\n",
       "      <td>8.310596</td>\n",
       "      <td>7.9000</td>\n",
       "      <td>7.2000</td>\n",
       "      <td>3.017134</td>\n",
       "      <td>1.736990</td>\n",
       "      <td>11.30000</td>\n",
       "      <td>7.1000</td>\n",
       "      <td>7.9000</td>\n",
       "      <td>9.20000</td>\n",
       "      <td>2.10000</td>\n",
       "    </tr>\n",
       "    <tr>\n",
       "      <th>volatile acidity</th>\n",
       "      <td>0.529478</td>\n",
       "      <td>0.5200</td>\n",
       "      <td>0.5000</td>\n",
       "      <td>0.033500</td>\n",
       "      <td>0.183031</td>\n",
       "      <td>1.46000</td>\n",
       "      <td>0.3900</td>\n",
       "      <td>0.5200</td>\n",
       "      <td>0.64000</td>\n",
       "      <td>0.25000</td>\n",
       "    </tr>\n",
       "    <tr>\n",
       "      <th>citric acid</th>\n",
       "      <td>0.272333</td>\n",
       "      <td>0.2600</td>\n",
       "      <td>0.0000</td>\n",
       "      <td>0.038235</td>\n",
       "      <td>0.195537</td>\n",
       "      <td>1.00000</td>\n",
       "      <td>0.0900</td>\n",
       "      <td>0.2600</td>\n",
       "      <td>0.43000</td>\n",
       "      <td>0.34000</td>\n",
       "    </tr>\n",
       "    <tr>\n",
       "      <th>residual sugar</th>\n",
       "      <td>2.523400</td>\n",
       "      <td>2.2000</td>\n",
       "      <td>2.0000</td>\n",
       "      <td>1.828752</td>\n",
       "      <td>1.352314</td>\n",
       "      <td>14.60000</td>\n",
       "      <td>1.9000</td>\n",
       "      <td>2.2000</td>\n",
       "      <td>2.60000</td>\n",
       "      <td>0.70000</td>\n",
       "    </tr>\n",
       "    <tr>\n",
       "      <th>chlorides</th>\n",
       "      <td>0.088124</td>\n",
       "      <td>0.0790</td>\n",
       "      <td>0.0800</td>\n",
       "      <td>0.002438</td>\n",
       "      <td>0.049377</td>\n",
       "      <td>0.59900</td>\n",
       "      <td>0.0700</td>\n",
       "      <td>0.0790</td>\n",
       "      <td>0.09100</td>\n",
       "      <td>0.02100</td>\n",
       "    </tr>\n",
       "    <tr>\n",
       "      <th>free sulfur dioxide</th>\n",
       "      <td>15.893304</td>\n",
       "      <td>14.0000</td>\n",
       "      <td>6.0000</td>\n",
       "      <td>109.145456</td>\n",
       "      <td>10.447270</td>\n",
       "      <td>71.00000</td>\n",
       "      <td>7.0000</td>\n",
       "      <td>14.0000</td>\n",
       "      <td>21.00000</td>\n",
       "      <td>14.00000</td>\n",
       "    </tr>\n",
       "    <tr>\n",
       "      <th>total sulfur dioxide</th>\n",
       "      <td>46.825975</td>\n",
       "      <td>38.0000</td>\n",
       "      <td>28.0000</td>\n",
       "      <td>1116.157653</td>\n",
       "      <td>33.408946</td>\n",
       "      <td>283.00000</td>\n",
       "      <td>22.0000</td>\n",
       "      <td>38.0000</td>\n",
       "      <td>63.00000</td>\n",
       "      <td>41.00000</td>\n",
       "    </tr>\n",
       "    <tr>\n",
       "      <th>density</th>\n",
       "      <td>0.996709</td>\n",
       "      <td>0.9967</td>\n",
       "      <td>0.9968</td>\n",
       "      <td>0.000003</td>\n",
       "      <td>0.001869</td>\n",
       "      <td>0.01362</td>\n",
       "      <td>0.9956</td>\n",
       "      <td>0.9967</td>\n",
       "      <td>0.99782</td>\n",
       "      <td>0.00222</td>\n",
       "    </tr>\n",
       "    <tr>\n",
       "      <th>pH</th>\n",
       "      <td>3.309787</td>\n",
       "      <td>3.3100</td>\n",
       "      <td>3.3000</td>\n",
       "      <td>0.024036</td>\n",
       "      <td>0.155036</td>\n",
       "      <td>1.27000</td>\n",
       "      <td>3.2100</td>\n",
       "      <td>3.3100</td>\n",
       "      <td>3.40000</td>\n",
       "      <td>0.19000</td>\n",
       "    </tr>\n",
       "    <tr>\n",
       "      <th>sulphates</th>\n",
       "      <td>0.658705</td>\n",
       "      <td>0.6200</td>\n",
       "      <td>0.5400</td>\n",
       "      <td>0.029127</td>\n",
       "      <td>0.170667</td>\n",
       "      <td>1.67000</td>\n",
       "      <td>0.5500</td>\n",
       "      <td>0.6200</td>\n",
       "      <td>0.73000</td>\n",
       "      <td>0.18000</td>\n",
       "    </tr>\n",
       "    <tr>\n",
       "      <th>alcohol</th>\n",
       "      <td>10.432315</td>\n",
       "      <td>10.2000</td>\n",
       "      <td>9.5000</td>\n",
       "      <td>1.170866</td>\n",
       "      <td>1.082065</td>\n",
       "      <td>6.50000</td>\n",
       "      <td>9.5000</td>\n",
       "      <td>10.2000</td>\n",
       "      <td>11.10000</td>\n",
       "      <td>1.60000</td>\n",
       "    </tr>\n",
       "    <tr>\n",
       "      <th>quality</th>\n",
       "      <td>5.623252</td>\n",
       "      <td>6.0000</td>\n",
       "      <td>5.0000</td>\n",
       "      <td>0.678281</td>\n",
       "      <td>0.823578</td>\n",
       "      <td>5.00000</td>\n",
       "      <td>5.0000</td>\n",
       "      <td>6.0000</td>\n",
       "      <td>6.00000</td>\n",
       "      <td>1.00000</td>\n",
       "    </tr>\n",
       "  </tbody>\n",
       "</table>\n",
       "</div>"
      ],
      "text/plain": [
       "                           mean   median     mode     variance    std_dev  \\\n",
       "fixed acidity          8.310596   7.9000   7.2000     3.017134   1.736990   \n",
       "volatile acidity       0.529478   0.5200   0.5000     0.033500   0.183031   \n",
       "citric acid            0.272333   0.2600   0.0000     0.038235   0.195537   \n",
       "residual sugar         2.523400   2.2000   2.0000     1.828752   1.352314   \n",
       "chlorides              0.088124   0.0790   0.0800     0.002438   0.049377   \n",
       "free sulfur dioxide   15.893304  14.0000   6.0000   109.145456  10.447270   \n",
       "total sulfur dioxide  46.825975  38.0000  28.0000  1116.157653  33.408946   \n",
       "density                0.996709   0.9967   0.9968     0.000003   0.001869   \n",
       "pH                     3.309787   3.3100   3.3000     0.024036   0.155036   \n",
       "sulphates              0.658705   0.6200   0.5400     0.029127   0.170667   \n",
       "alcohol               10.432315  10.2000   9.5000     1.170866   1.082065   \n",
       "quality                5.623252   6.0000   5.0000     0.678281   0.823578   \n",
       "\n",
       "                          range  percentile_25  percentile_50  percentile_75  \\\n",
       "fixed acidity          11.30000         7.1000         7.9000        9.20000   \n",
       "volatile acidity        1.46000         0.3900         0.5200        0.64000   \n",
       "citric acid             1.00000         0.0900         0.2600        0.43000   \n",
       "residual sugar         14.60000         1.9000         2.2000        2.60000   \n",
       "chlorides               0.59900         0.0700         0.0790        0.09100   \n",
       "free sulfur dioxide    71.00000         7.0000        14.0000       21.00000   \n",
       "total sulfur dioxide  283.00000        22.0000        38.0000       63.00000   \n",
       "density                 0.01362         0.9956         0.9967        0.99782   \n",
       "pH                      1.27000         3.2100         3.3100        3.40000   \n",
       "sulphates               1.67000         0.5500         0.6200        0.73000   \n",
       "alcohol                 6.50000         9.5000        10.2000       11.10000   \n",
       "quality                 5.00000         5.0000         6.0000        6.00000   \n",
       "\n",
       "                           iqr  \n",
       "fixed acidity          2.10000  \n",
       "volatile acidity       0.25000  \n",
       "citric acid            0.34000  \n",
       "residual sugar         0.70000  \n",
       "chlorides              0.02100  \n",
       "free sulfur dioxide   14.00000  \n",
       "total sulfur dioxide  41.00000  \n",
       "density                0.00222  \n",
       "pH                     0.19000  \n",
       "sulphates              0.18000  \n",
       "alcohol                1.60000  \n",
       "quality                1.00000  "
      ]
     },
     "execution_count": 16,
     "metadata": {},
     "output_type": "execute_result"
    }
   ],
   "source": [
    "import numpy as np\n",
    "from scipy import stats\n",
    "\n",
    "# Tính toán các thống kê mô tả cho từng cột số liệu\n",
    "desc_stats = {}\n",
    "\n",
    "for col in wine_data.columns:\n",
    "    if wine_data[col].dtype in [np.float64, np.int64]:\n",
    "        data = wine_data[col].values\n",
    "        \n",
    "        mean = np.mean(data)\n",
    "        median = np.median(data)\n",
    "        mode = stats.mode(data, keepdims=True)[0][0]\n",
    "        var = np.var(data, ddof=1)\n",
    "        std = np.std(data, ddof=1)\n",
    "        data_range = np.ptp(data)\n",
    "        percentile_25 = np.percentile(data, 25)\n",
    "        percentile_50 = np.percentile(data, 50)\n",
    "        percentile_75 = np.percentile(data, 75)\n",
    "        iqr = stats.iqr(data)\n",
    "        \n",
    "        desc_stats[col] = {\n",
    "            'mean': mean,\n",
    "            'median': median,\n",
    "            'mode': mode,\n",
    "            'variance': var,\n",
    "            'std_dev': std,\n",
    "            'range': data_range,\n",
    "            'percentile_25': percentile_25,\n",
    "            'percentile_50': percentile_50,\n",
    "            'percentile_75': percentile_75,\n",
    "            'iqr': iqr\n",
    "        }\n",
    "\n",
    "desc_stats_df = pd.DataFrame(desc_stats).T\n",
    "desc_stats_df\n"
   ]
  },
  {
   "cell_type": "markdown",
   "id": "09db7129",
   "metadata": {},
   "source": [
    "Tư kết quả này, ta có thể sử dụng chúng để thực các công việc tiếp theo (như trực quan hóa dữ liệu, xử lý ngoại lai, ...)"
   ]
  },
  {
   "cell_type": "markdown",
   "id": "64c05d18",
   "metadata": {},
   "source": [
    "## 5. Trực quan hóa dữ liệu"
   ]
  },
  {
   "cell_type": "markdown",
   "id": "ef8bf109",
   "metadata": {},
   "source": []
  }
 ],
 "metadata": {
  "kernelspec": {
   "display_name": "base",
   "language": "python",
   "name": "python3"
  },
  "language_info": {
   "codemirror_mode": {
    "name": "ipython",
    "version": 3
   },
   "file_extension": ".py",
   "mimetype": "text/x-python",
   "name": "python",
   "nbconvert_exporter": "python",
   "pygments_lexer": "ipython3",
   "version": "3.12.7"
  }
 },
 "nbformat": 4,
 "nbformat_minor": 5
}
