{
 "cells": [
  {
   "cell_type": "markdown",
   "id": "ed7db558",
   "metadata": {
    "notebookRunGroups": {
     "groupValue": "2"
    }
   },
   "source": [
    "# Khám phá dữ liệu trên tập dữ liệu mua sắm ở siêu thị"
   ]
  },
  {
   "cell_type": "markdown",
   "id": "cda76e58",
   "metadata": {},
   "source": [
    "## 0. Chuẩn bị thư viện"
   ]
  },
  {
   "cell_type": "code",
   "execution_count": 1,
   "id": "ab53250e",
   "metadata": {},
   "outputs": [],
   "source": [
    "import matplotlib.pyplot as plt\n",
    "import seaborn as sns\n",
    "import pandas as pd\n",
    "import numpy as np\n",
    "import datetime as dt\n",
    "import plotly.express as px\n",
    "import plotly.graph_objects as go\n",
    "from scipy import stats\n",
    "import sklearn\n"
   ]
  },
  {
   "cell_type": "markdown",
   "id": "52993a84",
   "metadata": {},
   "source": [
    "## 1. Chuẩn bị dữ liệu"
   ]
  },
  {
   "cell_type": "code",
   "execution_count": 2,
   "id": "fa5a301a",
   "metadata": {},
   "outputs": [],
   "source": [
    "retail_data = pd.read_excel(\"Online Retail.xlsx\", engine=\"openpyxl\")\n",
    "retail_data = retail_data[[\"InvoiceNo\", \"StockCode\", \"Description\", \"Quantity\", \"InvoiceDate\", \"UnitPrice\", \"CustomerID\", \"Country\"]]\n"
   ]
  },
  {
   "cell_type": "code",
   "execution_count": 3,
   "id": "aa3fd342",
   "metadata": {},
   "outputs": [
    {
     "data": {
      "application/vnd.microsoft.datawrangler.viewer.v0+json": {
       "columns": [
        {
         "name": "index",
         "rawType": "int64",
         "type": "integer"
        },
        {
         "name": "InvoiceNo",
         "rawType": "object",
         "type": "unknown"
        },
        {
         "name": "StockCode",
         "rawType": "object",
         "type": "unknown"
        },
        {
         "name": "Description",
         "rawType": "object",
         "type": "string"
        },
        {
         "name": "Quantity",
         "rawType": "int64",
         "type": "integer"
        },
        {
         "name": "InvoiceDate",
         "rawType": "datetime64[ns]",
         "type": "datetime"
        },
        {
         "name": "UnitPrice",
         "rawType": "float64",
         "type": "float"
        },
        {
         "name": "CustomerID",
         "rawType": "float64",
         "type": "float"
        },
        {
         "name": "Country",
         "rawType": "object",
         "type": "string"
        }
       ],
       "ref": "49392cc2-4b3d-47ae-a395-945518c15b32",
       "rows": [
        [
         "0",
         "536365",
         "85123A",
         "WHITE HANGING HEART T-LIGHT HOLDER",
         "6",
         "2010-12-01 08:26:00",
         "2.55",
         "17850.0",
         "United Kingdom"
        ],
        [
         "1",
         "536365",
         "71053",
         "WHITE METAL LANTERN",
         "6",
         "2010-12-01 08:26:00",
         "3.39",
         "17850.0",
         "United Kingdom"
        ],
        [
         "2",
         "536365",
         "84406B",
         "CREAM CUPID HEARTS COAT HANGER",
         "8",
         "2010-12-01 08:26:00",
         "2.75",
         "17850.0",
         "United Kingdom"
        ],
        [
         "3",
         "536365",
         "84029G",
         "KNITTED UNION FLAG HOT WATER BOTTLE",
         "6",
         "2010-12-01 08:26:00",
         "3.39",
         "17850.0",
         "United Kingdom"
        ],
        [
         "4",
         "536365",
         "84029E",
         "RED WOOLLY HOTTIE WHITE HEART.",
         "6",
         "2010-12-01 08:26:00",
         "3.39",
         "17850.0",
         "United Kingdom"
        ]
       ],
       "shape": {
        "columns": 8,
        "rows": 5
       }
      },
      "text/html": [
       "<div>\n",
       "<style scoped>\n",
       "    .dataframe tbody tr th:only-of-type {\n",
       "        vertical-align: middle;\n",
       "    }\n",
       "\n",
       "    .dataframe tbody tr th {\n",
       "        vertical-align: top;\n",
       "    }\n",
       "\n",
       "    .dataframe thead th {\n",
       "        text-align: right;\n",
       "    }\n",
       "</style>\n",
       "<table border=\"1\" class=\"dataframe\">\n",
       "  <thead>\n",
       "    <tr style=\"text-align: right;\">\n",
       "      <th></th>\n",
       "      <th>InvoiceNo</th>\n",
       "      <th>StockCode</th>\n",
       "      <th>Description</th>\n",
       "      <th>Quantity</th>\n",
       "      <th>InvoiceDate</th>\n",
       "      <th>UnitPrice</th>\n",
       "      <th>CustomerID</th>\n",
       "      <th>Country</th>\n",
       "    </tr>\n",
       "  </thead>\n",
       "  <tbody>\n",
       "    <tr>\n",
       "      <th>0</th>\n",
       "      <td>536365</td>\n",
       "      <td>85123A</td>\n",
       "      <td>WHITE HANGING HEART T-LIGHT HOLDER</td>\n",
       "      <td>6</td>\n",
       "      <td>2010-12-01 08:26:00</td>\n",
       "      <td>2.55</td>\n",
       "      <td>17850.0</td>\n",
       "      <td>United Kingdom</td>\n",
       "    </tr>\n",
       "    <tr>\n",
       "      <th>1</th>\n",
       "      <td>536365</td>\n",
       "      <td>71053</td>\n",
       "      <td>WHITE METAL LANTERN</td>\n",
       "      <td>6</td>\n",
       "      <td>2010-12-01 08:26:00</td>\n",
       "      <td>3.39</td>\n",
       "      <td>17850.0</td>\n",
       "      <td>United Kingdom</td>\n",
       "    </tr>\n",
       "    <tr>\n",
       "      <th>2</th>\n",
       "      <td>536365</td>\n",
       "      <td>84406B</td>\n",
       "      <td>CREAM CUPID HEARTS COAT HANGER</td>\n",
       "      <td>8</td>\n",
       "      <td>2010-12-01 08:26:00</td>\n",
       "      <td>2.75</td>\n",
       "      <td>17850.0</td>\n",
       "      <td>United Kingdom</td>\n",
       "    </tr>\n",
       "    <tr>\n",
       "      <th>3</th>\n",
       "      <td>536365</td>\n",
       "      <td>84029G</td>\n",
       "      <td>KNITTED UNION FLAG HOT WATER BOTTLE</td>\n",
       "      <td>6</td>\n",
       "      <td>2010-12-01 08:26:00</td>\n",
       "      <td>3.39</td>\n",
       "      <td>17850.0</td>\n",
       "      <td>United Kingdom</td>\n",
       "    </tr>\n",
       "    <tr>\n",
       "      <th>4</th>\n",
       "      <td>536365</td>\n",
       "      <td>84029E</td>\n",
       "      <td>RED WOOLLY HOTTIE WHITE HEART.</td>\n",
       "      <td>6</td>\n",
       "      <td>2010-12-01 08:26:00</td>\n",
       "      <td>3.39</td>\n",
       "      <td>17850.0</td>\n",
       "      <td>United Kingdom</td>\n",
       "    </tr>\n",
       "  </tbody>\n",
       "</table>\n",
       "</div>"
      ],
      "text/plain": [
       "  InvoiceNo StockCode                          Description  Quantity  \\\n",
       "0    536365    85123A   WHITE HANGING HEART T-LIGHT HOLDER         6   \n",
       "1    536365     71053                  WHITE METAL LANTERN         6   \n",
       "2    536365    84406B       CREAM CUPID HEARTS COAT HANGER         8   \n",
       "3    536365    84029G  KNITTED UNION FLAG HOT WATER BOTTLE         6   \n",
       "4    536365    84029E       RED WOOLLY HOTTIE WHITE HEART.         6   \n",
       "\n",
       "          InvoiceDate  UnitPrice  CustomerID         Country  \n",
       "0 2010-12-01 08:26:00       2.55     17850.0  United Kingdom  \n",
       "1 2010-12-01 08:26:00       3.39     17850.0  United Kingdom  \n",
       "2 2010-12-01 08:26:00       2.75     17850.0  United Kingdom  \n",
       "3 2010-12-01 08:26:00       3.39     17850.0  United Kingdom  \n",
       "4 2010-12-01 08:26:00       3.39     17850.0  United Kingdom  "
      ]
     },
     "metadata": {},
     "output_type": "display_data"
    }
   ],
   "source": [
    "display(retail_data.head())\n"
   ]
  },
  {
   "cell_type": "markdown",
   "id": "fe924817",
   "metadata": {},
   "source": [
    "## 2. Khám phá dữ liệu ban đầu"
   ]
  },
  {
   "cell_type": "markdown",
   "id": "00753615",
   "metadata": {},
   "source": [
    "Trước hết, chúng ta cần kiểm tra các thông tin cơ bản nhất"
   ]
  },
  {
   "cell_type": "code",
   "execution_count": 4,
   "id": "db0c2b82",
   "metadata": {},
   "outputs": [
    {
     "name": "stdout",
     "output_type": "stream",
     "text": [
      "Số dòng: 541909\n",
      "Số cột: 8\n",
      "\n",
      "Kiểu dữ liệu từng cột:\n",
      "InvoiceNo              object\n",
      "StockCode              object\n",
      "Description            object\n",
      "Quantity                int64\n",
      "InvoiceDate    datetime64[ns]\n",
      "UnitPrice             float64\n",
      "CustomerID            float64\n",
      "Country                object\n",
      "dtype: object\n"
     ]
    }
   ],
   "source": [
    "print(\"Số dòng:\", retail_data.shape[0])\n",
    "print(\"Số cột:\", retail_data.shape[1])\n",
    "print(\"\\nKiểu dữ liệu từng cột:\")\n",
    "print(retail_data.dtypes)\n"
   ]
  },
  {
   "cell_type": "markdown",
   "id": "c65a5b9a",
   "metadata": {},
   "source": [
    "Tiếp đến, chúng ta cần kiểm tra các dữ liệu bị thiếu và dữ liệu trùng lặp"
   ]
  },
  {
   "cell_type": "code",
   "execution_count": 5,
   "id": "a60f6311",
   "metadata": {},
   "outputs": [
    {
     "data": {
      "application/vnd.microsoft.datawrangler.viewer.v0+json": {
       "columns": [
        {
         "name": "index",
         "rawType": "object",
         "type": "string"
        },
        {
         "name": "Missing Count",
         "rawType": "int64",
         "type": "integer"
        },
        {
         "name": "Missing Percent (%)",
         "rawType": "float64",
         "type": "float"
        }
       ],
       "ref": "05540317-428c-4f28-b047-195bfa2c19f0",
       "rows": [
        [
         "InvoiceNo",
         "0",
         "0.0"
        ],
        [
         "StockCode",
         "0",
         "0.0"
        ],
        [
         "Description",
         "1454",
         "0.27"
        ],
        [
         "Quantity",
         "0",
         "0.0"
        ],
        [
         "InvoiceDate",
         "0",
         "0.0"
        ],
        [
         "UnitPrice",
         "0",
         "0.0"
        ],
        [
         "CustomerID",
         "135080",
         "24.93"
        ],
        [
         "Country",
         "0",
         "0.0"
        ]
       ],
       "shape": {
        "columns": 2,
        "rows": 8
       }
      },
      "text/html": [
       "<div>\n",
       "<style scoped>\n",
       "    .dataframe tbody tr th:only-of-type {\n",
       "        vertical-align: middle;\n",
       "    }\n",
       "\n",
       "    .dataframe tbody tr th {\n",
       "        vertical-align: top;\n",
       "    }\n",
       "\n",
       "    .dataframe thead th {\n",
       "        text-align: right;\n",
       "    }\n",
       "</style>\n",
       "<table border=\"1\" class=\"dataframe\">\n",
       "  <thead>\n",
       "    <tr style=\"text-align: right;\">\n",
       "      <th></th>\n",
       "      <th>Missing Count</th>\n",
       "      <th>Missing Percent (%)</th>\n",
       "    </tr>\n",
       "  </thead>\n",
       "  <tbody>\n",
       "    <tr>\n",
       "      <th>InvoiceNo</th>\n",
       "      <td>0</td>\n",
       "      <td>0.00</td>\n",
       "    </tr>\n",
       "    <tr>\n",
       "      <th>StockCode</th>\n",
       "      <td>0</td>\n",
       "      <td>0.00</td>\n",
       "    </tr>\n",
       "    <tr>\n",
       "      <th>Description</th>\n",
       "      <td>1454</td>\n",
       "      <td>0.27</td>\n",
       "    </tr>\n",
       "    <tr>\n",
       "      <th>Quantity</th>\n",
       "      <td>0</td>\n",
       "      <td>0.00</td>\n",
       "    </tr>\n",
       "    <tr>\n",
       "      <th>InvoiceDate</th>\n",
       "      <td>0</td>\n",
       "      <td>0.00</td>\n",
       "    </tr>\n",
       "    <tr>\n",
       "      <th>UnitPrice</th>\n",
       "      <td>0</td>\n",
       "      <td>0.00</td>\n",
       "    </tr>\n",
       "    <tr>\n",
       "      <th>CustomerID</th>\n",
       "      <td>135080</td>\n",
       "      <td>24.93</td>\n",
       "    </tr>\n",
       "    <tr>\n",
       "      <th>Country</th>\n",
       "      <td>0</td>\n",
       "      <td>0.00</td>\n",
       "    </tr>\n",
       "  </tbody>\n",
       "</table>\n",
       "</div>"
      ],
      "text/plain": [
       "             Missing Count  Missing Percent (%)\n",
       "InvoiceNo                0                 0.00\n",
       "StockCode                0                 0.00\n",
       "Description           1454                 0.27\n",
       "Quantity                 0                 0.00\n",
       "InvoiceDate              0                 0.00\n",
       "UnitPrice                0                 0.00\n",
       "CustomerID          135080                24.93\n",
       "Country                  0                 0.00"
      ]
     },
     "metadata": {},
     "output_type": "display_data"
    }
   ],
   "source": [
    "missing_count = retail_data.isnull().sum()\n",
    "missing_percent = (missing_count / len(retail_data)) * 100\n",
    "\n",
    "missing_summary = pd.DataFrame({\n",
    "    'Missing Count': missing_count,\n",
    "    'Missing Percent (%)': missing_percent.round(2)\n",
    "})\n",
    "\n",
    "display(missing_summary)\n"
   ]
  },
  {
   "cell_type": "code",
   "execution_count": 6,
   "id": "cbb67c93",
   "metadata": {},
   "outputs": [
    {
     "name": "stdout",
     "output_type": "stream",
     "text": [
      "Số dòng dữ liệu trùng lặp: 5268\n",
      "Các dòng trùng lặp (hiển thị 5 dòng đầu):\n"
     ]
    },
    {
     "data": {
      "application/vnd.microsoft.datawrangler.viewer.v0+json": {
       "columns": [
        {
         "name": "index",
         "rawType": "int64",
         "type": "integer"
        },
        {
         "name": "InvoiceNo",
         "rawType": "object",
         "type": "unknown"
        },
        {
         "name": "StockCode",
         "rawType": "object",
         "type": "unknown"
        },
        {
         "name": "Description",
         "rawType": "object",
         "type": "string"
        },
        {
         "name": "Quantity",
         "rawType": "int64",
         "type": "integer"
        },
        {
         "name": "InvoiceDate",
         "rawType": "datetime64[ns]",
         "type": "datetime"
        },
        {
         "name": "UnitPrice",
         "rawType": "float64",
         "type": "float"
        },
        {
         "name": "CustomerID",
         "rawType": "float64",
         "type": "float"
        },
        {
         "name": "Country",
         "rawType": "object",
         "type": "string"
        }
       ],
       "ref": "0caf4d86-418d-4f36-88fb-bc0787e9a568",
       "rows": [
        [
         "517",
         "536409",
         "21866",
         "UNION JACK FLAG LUGGAGE TAG",
         "1",
         "2010-12-01 11:45:00",
         "1.25",
         "17908.0",
         "United Kingdom"
        ],
        [
         "527",
         "536409",
         "22866",
         "HAND WARMER SCOTTY DOG DESIGN",
         "1",
         "2010-12-01 11:45:00",
         "2.1",
         "17908.0",
         "United Kingdom"
        ],
        [
         "537",
         "536409",
         "22900",
         " SET 2 TEA TOWELS I LOVE LONDON ",
         "1",
         "2010-12-01 11:45:00",
         "2.95",
         "17908.0",
         "United Kingdom"
        ],
        [
         "539",
         "536409",
         "22111",
         "SCOTTIE DOG HOT WATER BOTTLE",
         "1",
         "2010-12-01 11:45:00",
         "4.95",
         "17908.0",
         "United Kingdom"
        ],
        [
         "555",
         "536412",
         "22327",
         "ROUND SNACK BOXES SET OF 4 SKULLS",
         "1",
         "2010-12-01 11:49:00",
         "2.95",
         "17920.0",
         "United Kingdom"
        ]
       ],
       "shape": {
        "columns": 8,
        "rows": 5
       }
      },
      "text/html": [
       "<div>\n",
       "<style scoped>\n",
       "    .dataframe tbody tr th:only-of-type {\n",
       "        vertical-align: middle;\n",
       "    }\n",
       "\n",
       "    .dataframe tbody tr th {\n",
       "        vertical-align: top;\n",
       "    }\n",
       "\n",
       "    .dataframe thead th {\n",
       "        text-align: right;\n",
       "    }\n",
       "</style>\n",
       "<table border=\"1\" class=\"dataframe\">\n",
       "  <thead>\n",
       "    <tr style=\"text-align: right;\">\n",
       "      <th></th>\n",
       "      <th>InvoiceNo</th>\n",
       "      <th>StockCode</th>\n",
       "      <th>Description</th>\n",
       "      <th>Quantity</th>\n",
       "      <th>InvoiceDate</th>\n",
       "      <th>UnitPrice</th>\n",
       "      <th>CustomerID</th>\n",
       "      <th>Country</th>\n",
       "    </tr>\n",
       "  </thead>\n",
       "  <tbody>\n",
       "    <tr>\n",
       "      <th>517</th>\n",
       "      <td>536409</td>\n",
       "      <td>21866</td>\n",
       "      <td>UNION JACK FLAG LUGGAGE TAG</td>\n",
       "      <td>1</td>\n",
       "      <td>2010-12-01 11:45:00</td>\n",
       "      <td>1.25</td>\n",
       "      <td>17908.0</td>\n",
       "      <td>United Kingdom</td>\n",
       "    </tr>\n",
       "    <tr>\n",
       "      <th>527</th>\n",
       "      <td>536409</td>\n",
       "      <td>22866</td>\n",
       "      <td>HAND WARMER SCOTTY DOG DESIGN</td>\n",
       "      <td>1</td>\n",
       "      <td>2010-12-01 11:45:00</td>\n",
       "      <td>2.10</td>\n",
       "      <td>17908.0</td>\n",
       "      <td>United Kingdom</td>\n",
       "    </tr>\n",
       "    <tr>\n",
       "      <th>537</th>\n",
       "      <td>536409</td>\n",
       "      <td>22900</td>\n",
       "      <td>SET 2 TEA TOWELS I LOVE LONDON</td>\n",
       "      <td>1</td>\n",
       "      <td>2010-12-01 11:45:00</td>\n",
       "      <td>2.95</td>\n",
       "      <td>17908.0</td>\n",
       "      <td>United Kingdom</td>\n",
       "    </tr>\n",
       "    <tr>\n",
       "      <th>539</th>\n",
       "      <td>536409</td>\n",
       "      <td>22111</td>\n",
       "      <td>SCOTTIE DOG HOT WATER BOTTLE</td>\n",
       "      <td>1</td>\n",
       "      <td>2010-12-01 11:45:00</td>\n",
       "      <td>4.95</td>\n",
       "      <td>17908.0</td>\n",
       "      <td>United Kingdom</td>\n",
       "    </tr>\n",
       "    <tr>\n",
       "      <th>555</th>\n",
       "      <td>536412</td>\n",
       "      <td>22327</td>\n",
       "      <td>ROUND SNACK BOXES SET OF 4 SKULLS</td>\n",
       "      <td>1</td>\n",
       "      <td>2010-12-01 11:49:00</td>\n",
       "      <td>2.95</td>\n",
       "      <td>17920.0</td>\n",
       "      <td>United Kingdom</td>\n",
       "    </tr>\n",
       "  </tbody>\n",
       "</table>\n",
       "</div>"
      ],
      "text/plain": [
       "    InvoiceNo StockCode                        Description  Quantity  \\\n",
       "517    536409     21866        UNION JACK FLAG LUGGAGE TAG         1   \n",
       "527    536409     22866      HAND WARMER SCOTTY DOG DESIGN         1   \n",
       "537    536409     22900    SET 2 TEA TOWELS I LOVE LONDON          1   \n",
       "539    536409     22111       SCOTTIE DOG HOT WATER BOTTLE         1   \n",
       "555    536412     22327  ROUND SNACK BOXES SET OF 4 SKULLS         1   \n",
       "\n",
       "            InvoiceDate  UnitPrice  CustomerID         Country  \n",
       "517 2010-12-01 11:45:00       1.25     17908.0  United Kingdom  \n",
       "527 2010-12-01 11:45:00       2.10     17908.0  United Kingdom  \n",
       "537 2010-12-01 11:45:00       2.95     17908.0  United Kingdom  \n",
       "539 2010-12-01 11:45:00       4.95     17908.0  United Kingdom  \n",
       "555 2010-12-01 11:49:00       2.95     17920.0  United Kingdom  "
      ]
     },
     "metadata": {},
     "output_type": "display_data"
    }
   ],
   "source": [
    "duplicate_count = retail_data.duplicated().sum()\n",
    "print(f\"Số dòng dữ liệu trùng lặp: {duplicate_count}\")\n",
    "\n",
    "if duplicate_count > 0:\n",
    "    print(\"Các dòng trùng lặp (hiển thị 5 dòng đầu):\")\n",
    "    display(retail_data[retail_data.duplicated()].head())\n",
    "else:\n",
    "    print(\"Không có dữ liệu trùng lặp trong retail_data.\")\n"
   ]
  },
  {
   "cell_type": "markdown",
   "id": "a7c298c8",
   "metadata": {},
   "source": [
    "Cuối cùng, chúng ta sẽ thực hiện việc thống kê mô tả, ở đây chúng ta sẽ chỉ thống kê các số liệu có thể tính được: "
   ]
  },
  {
   "cell_type": "code",
   "execution_count": 7,
   "id": "4c140c8b",
   "metadata": {},
   "outputs": [
    {
     "data": {
      "application/vnd.microsoft.datawrangler.viewer.v0+json": {
       "columns": [
        {
         "name": "index",
         "rawType": "object",
         "type": "string"
        },
        {
         "name": "Quantity",
         "rawType": "float64",
         "type": "float"
        },
        {
         "name": "UnitPrice",
         "rawType": "float64",
         "type": "float"
        }
       ],
       "ref": "fb2cfdee-d49c-4913-bd1b-d2a62d9b22fc",
       "rows": [
        [
         "mean",
         "9.55224954743324",
         "4.611113626088513"
        ],
        [
         "median",
         "3.0",
         "2.08"
        ],
        [
         "mode",
         "1.0",
         "1.25"
        ],
        [
         "variance",
         "47559.3914092986",
         "9362.469164421025"
        ],
        [
         "std_dev",
         "218.08115785023384",
         "96.75985306117938"
        ],
        [
         "range",
         "161990.0",
         "50032.06"
        ],
        [
         "percentile_25",
         "1.0",
         "1.25"
        ],
        [
         "percentile_50",
         "3.0",
         "2.08"
        ],
        [
         "percentile_75",
         "10.0",
         "4.13"
        ],
        [
         "iqr",
         "9.0",
         "2.88"
        ]
       ],
       "shape": {
        "columns": 2,
        "rows": 10
       }
      },
      "text/html": [
       "<div>\n",
       "<style scoped>\n",
       "    .dataframe tbody tr th:only-of-type {\n",
       "        vertical-align: middle;\n",
       "    }\n",
       "\n",
       "    .dataframe tbody tr th {\n",
       "        vertical-align: top;\n",
       "    }\n",
       "\n",
       "    .dataframe thead th {\n",
       "        text-align: right;\n",
       "    }\n",
       "</style>\n",
       "<table border=\"1\" class=\"dataframe\">\n",
       "  <thead>\n",
       "    <tr style=\"text-align: right;\">\n",
       "      <th></th>\n",
       "      <th>Quantity</th>\n",
       "      <th>UnitPrice</th>\n",
       "    </tr>\n",
       "  </thead>\n",
       "  <tbody>\n",
       "    <tr>\n",
       "      <th>mean</th>\n",
       "      <td>9.552250</td>\n",
       "      <td>4.611114</td>\n",
       "    </tr>\n",
       "    <tr>\n",
       "      <th>median</th>\n",
       "      <td>3.000000</td>\n",
       "      <td>2.080000</td>\n",
       "    </tr>\n",
       "    <tr>\n",
       "      <th>mode</th>\n",
       "      <td>1.000000</td>\n",
       "      <td>1.250000</td>\n",
       "    </tr>\n",
       "    <tr>\n",
       "      <th>variance</th>\n",
       "      <td>47559.391409</td>\n",
       "      <td>9362.469164</td>\n",
       "    </tr>\n",
       "    <tr>\n",
       "      <th>std_dev</th>\n",
       "      <td>218.081158</td>\n",
       "      <td>96.759853</td>\n",
       "    </tr>\n",
       "    <tr>\n",
       "      <th>range</th>\n",
       "      <td>161990.000000</td>\n",
       "      <td>50032.060000</td>\n",
       "    </tr>\n",
       "    <tr>\n",
       "      <th>percentile_25</th>\n",
       "      <td>1.000000</td>\n",
       "      <td>1.250000</td>\n",
       "    </tr>\n",
       "    <tr>\n",
       "      <th>percentile_50</th>\n",
       "      <td>3.000000</td>\n",
       "      <td>2.080000</td>\n",
       "    </tr>\n",
       "    <tr>\n",
       "      <th>percentile_75</th>\n",
       "      <td>10.000000</td>\n",
       "      <td>4.130000</td>\n",
       "    </tr>\n",
       "    <tr>\n",
       "      <th>iqr</th>\n",
       "      <td>9.000000</td>\n",
       "      <td>2.880000</td>\n",
       "    </tr>\n",
       "  </tbody>\n",
       "</table>\n",
       "</div>"
      ],
      "text/plain": [
       "                    Quantity     UnitPrice\n",
       "mean                9.552250      4.611114\n",
       "median              3.000000      2.080000\n",
       "mode                1.000000      1.250000\n",
       "variance        47559.391409   9362.469164\n",
       "std_dev           218.081158     96.759853\n",
       "range          161990.000000  50032.060000\n",
       "percentile_25       1.000000      1.250000\n",
       "percentile_50       3.000000      2.080000\n",
       "percentile_75      10.000000      4.130000\n",
       "iqr                 9.000000      2.880000"
      ]
     },
     "execution_count": 7,
     "metadata": {},
     "output_type": "execute_result"
    }
   ],
   "source": [
    "# Tính toán các thống kê mô tả cho Quantity và UnitPrice\n",
    "columns = ['Quantity', 'UnitPrice']\n",
    "stats_summary = {}\n",
    "\n",
    "for col in columns:\n",
    "    data = retail_data[col].dropna().values\n",
    "\n",
    "    mean = np.mean(data)\n",
    "    median = np.median(data)\n",
    "    mode = stats.mode(data, keepdims=True)[0][0]\n",
    "    variance = np.var(data, ddof=1)\n",
    "    std_dev = np.std(data, ddof=1)\n",
    "    data_range = np.ptp(data)\n",
    "    percentile_25 = np.percentile(data, 25)\n",
    "    percentile_50 = np.percentile(data, 50)\n",
    "    percentile_75 = np.percentile(data, 75)\n",
    "    iqr = stats.iqr(data)\n",
    "\n",
    "    stats_summary[col] = {\n",
    "        'mean': mean,\n",
    "        'median': median,\n",
    "        'mode': mode,\n",
    "        'variance': variance,\n",
    "        'std_dev': std_dev,\n",
    "        'range': data_range,\n",
    "        'percentile_25': percentile_25,\n",
    "        'percentile_50': percentile_50,\n",
    "        'percentile_75': percentile_75,\n",
    "        'iqr': iqr\n",
    "    }\n",
    "\n",
    "pd.DataFrame(stats_summary)\n"
   ]
  },
  {
   "cell_type": "markdown",
   "id": "f828998b",
   "metadata": {},
   "source": [
    "## 3. Tiền xử lý dữ liệu"
   ]
  },
  {
   "cell_type": "markdown",
   "id": "73235823",
   "metadata": {},
   "source": [
    "Đầu tiên, chúng ta sẽ xử lý dữ liệu bị thiếu và dữ liệu trùng lặp"
   ]
  },
  {
   "cell_type": "code",
   "execution_count": 8,
   "id": "2a507294",
   "metadata": {},
   "outputs": [
    {
     "name": "stdout",
     "output_type": "stream",
     "text": [
      "Đã xử lý dữ liệu bị thiếu. Số dòng dữ liệu sau khi loại bỏ: 406829\n",
      "Đã xử lý dữ liệu trùng lặp. Số dòng dữ liệu sau khi loại bỏ: 401604\n"
     ]
    }
   ],
   "source": [
    "# Xử lý dữ liệu bị thiếu: loại bỏ các dòng có giá trị thiếu\n",
    "retail_data_cleaned = retail_data.dropna()\n",
    "print(f\"Đã xử lý dữ liệu bị thiếu. Số dòng dữ liệu sau khi loại bỏ: {retail_data_cleaned.shape[0]}\")\n",
    "\n",
    "# Xử lý dữ liệu trùng lặp: loại bỏ các dòng bị trùng lặp\n",
    "retail_data_cleaned = retail_data_cleaned.drop_duplicates()\n",
    "print(f\"Đã xử lý dữ liệu trùng lặp. Số dòng dữ liệu sau khi loại bỏ: {retail_data_cleaned.shape[0]}\")\n"
   ]
  },
  {
   "cell_type": "markdown",
   "id": "6b747c07",
   "metadata": {},
   "source": [
    "Sau đó, chúng ta sẽ xử lý dữ liệu bất hợp lý. Ở đây, chúng ta sẽ chỉ tập trung vào 2 thuộc tính: Quantity và UnitPrice, là thuộc tính có thể tính toán được. \n",
    "* Loại bỏ Quantity ≤ 0 (trả hàng).\n",
    "* Loại bỏ UnitPrice ≤ 0 (lỗi nhập liệu)."
   ]
  },
  {
   "cell_type": "code",
   "execution_count": null,
   "id": "2d135720",
   "metadata": {},
   "outputs": [
    {
     "name": "stdout",
     "output_type": "stream",
     "text": [
      "Số dòng dữ liệu sau khi loại bỏ bất thường: 392692\n"
     ]
    }
   ],
   "source": [
    "# Loại bỏ các dòng có Quantity ≤ 0 hoặc UnitPrice ≤ 0\n",
    "retail_data_cleaned = retail_data_cleaned[(retail_data_cleaned['Quantity'] > 0) & (retail_data_cleaned['UnitPrice'] > 0)]\n",
    "print(f\"Số dòng dữ liệu sau khi loại bỏ bất thường: {retail_data_cleaned.shape[0]}\")\n"
   ]
  },
  {
   "cell_type": "markdown",
   "id": "4d1fdf0e",
   "metadata": {},
   "source": [
    "Cuối cùng, để dễ dàng cho việc phân tích, chúng ta sẽ tạo 1 số biến mới từ các biến đơn có sẵn"
   ]
  },
  {
   "cell_type": "code",
   "execution_count": null,
   "id": "b387a8eb",
   "metadata": {},
   "outputs": [],
   "source": [
    "# Tạo biến TotalPrice\n",
    "retail_data_cleaned['TotalPrice'] = retail_data_cleaned['Quantity'] * retail_data_cleaned['UnitPrice']\n",
    "\n",
    "# Tạo các biến thời gian từ InvoiceDate\n",
    "retail_data_cleaned['Month'] = retail_data_cleaned['InvoiceDate'].dt.month\n",
    "retail_data_cleaned['Day'] = retail_data_cleaned['InvoiceDate'].dt.day\n",
    "retail_data_cleaned['Hour'] = retail_data_cleaned['InvoiceDate'].dt.hour\n"
   ]
  },
  {
   "cell_type": "markdown",
   "id": "ea0674b6",
   "metadata": {},
   "source": [
    "## 4. Phân tích tổng quan"
   ]
  },
  {
   "cell_type": "markdown",
   "id": "1cb76e1e",
   "metadata": {},
   "source": [
    "Trước hết, chúng ta sẽ tính doanh thu tổng thể, doanh thu theo từng quốc gia và số lượng đơn theo tháng:"
   ]
  },
  {
   "cell_type": "code",
   "execution_count": null,
   "id": "04e6dcd8",
   "metadata": {},
   "outputs": [
    {
     "name": "stdout",
     "output_type": "stream",
     "text": [
      "Tổng doanh thu: 8887208.894\n"
     ]
    }
   ],
   "source": [
    "print(\"Tổng doanh thu:\", retail_data_cleaned['TotalPrice'].sum())\n"
   ]
  },
  {
   "cell_type": "code",
   "execution_count": null,
   "id": "8001b56c",
   "metadata": {},
   "outputs": [
    {
     "data": {
      "text/plain": [
       "<Axes: title={'center': 'Doanh thu theo tháng'}, xlabel='Month'>"
      ]
     },
     "execution_count": 17,
     "metadata": {},
     "output_type": "execute_result"
    },
    {
     "data": {
      "image/png": "[encoded data removed]",
      "text/plain": [
       "<Figure size 640x480 with 1 Axes>"
      ]
     },
     "metadata": {},
     "output_type": "display_data"
    }
   ],
   "source": [
    "month_revenue = retail_data_cleaned.groupby('Month')['TotalPrice'].sum()\n",
    "month_revenue.plot(kind='bar', title='Doanh thu theo tháng')\n"
   ]
  },
  {
   "cell_type": "code",
   "execution_count": null,
   "id": "31c036d0",
   "metadata": {},
   "outputs": [
    {
     "data": {
      "text/plain": [
       "<Axes: title={'center': 'Số lượng đơn hàng theo tháng'}, xlabel='Month'>"
      ]
     },
     "execution_count": 16,
     "metadata": {},
     "output_type": "execute_result"
    },
    {
     "data": {
      "image/png": "[encoded data removed]",
      "text/plain": [
       "<Figure size 640x480 with 1 Axes>"
      ]
     },
     "metadata": {},
     "output_type": "display_data"
    }
   ],
   "source": [
    "monthly_orders = retail_data_cleaned.groupby('Month')['InvoiceNo'].nunique()\n",
    "monthly_orders.plot(kind='bar', title='Số lượng đơn hàng theo tháng')\n"
   ]
  },
  {
   "cell_type": "markdown",
   "id": "15a15167",
   "metadata": {},
   "source": [
    "### Quan sát hai biểu đồ trên, ta thấy:\n",
    "\n",
    "- **Doanh thu theo tháng**: Biểu đồ doanh thu theo tháng cho thấy doanh thu có xu hướng tăng mạnh vào các tháng cuối năm, đặc biệt là tháng 11 và 12. Điều này có thể liên quan đến các dịp lễ hội, mua sắm cuối năm, khi nhu cầu tiêu dùng tăng cao. Các tháng giữa năm có doanh thu thấp hơn, phản ánh chu kỳ kinh doanh theo mùa của siêu thị.\n",
    "\n",
    "- **Số lượng đơn hàng theo tháng**: Số lượng đơn hàng cũng tăng dần từ đầu năm đến cuối năm, với đỉnh cao vào tháng 11 và 12. Điều này cho thấy không chỉ giá trị đơn hàng mà cả số lượng giao dịch đều tăng vào các tháng cao điểm, phù hợp với xu hướng tiêu dùng trong các dịp lễ hội và khuyến mãi. Các tháng đầu năm và giữa năm có số lượng đơn hàng thấp hơn, phản ánh sự biến động theo mùa trong hoạt động bán lẻ."
   ]
  },
  {
   "cell_type": "markdown",
   "id": "64c05d18",
   "metadata": {},
   "source": [
    "## 5. Phân tích sản phẩm"
   ]
  },
  {
   "cell_type": "markdown",
   "id": "ef8bf109",
   "metadata": {},
   "source": [
    "Tiếp theo, chúng ta sẽ phân tích độ bán chạy của sản phẩm:"
   ]
  },
  {
   "cell_type": "code",
   "execution_count": null,
   "id": "c1d153cb",
   "metadata": {},
   "outputs": [
    {
     "data": {
      "text/plain": [
       "<Axes: title={'center': 'Top 10 sản phẩm bán chạy'}, ylabel='Description'>"
      ]
     },
     "execution_count": 18,
     "metadata": {},
     "output_type": "execute_result"
    },
    {
     "data": {
      "image/png": "[encoded data removed]",
      "text/plain": [
       "<Figure size 640x480 with 1 Axes>"
      ]
     },
     "metadata": {},
     "output_type": "display_data"
    }
   ],
   "source": [
    "top_products = retail_data_cleaned.groupby('Description')['Quantity'].sum().sort_values(ascending=False).head(10)\n",
    "top_products.plot(kind='barh', title='Top 10 sản phẩm bán chạy')\n"
   ]
  },
  {
   "cell_type": "code",
   "execution_count": null,
   "id": "fff78dd7",
   "metadata": {},
   "outputs": [
    {
     "data": {
      "text/plain": [
       "<Axes: title={'center': 'Top 10 sản phẩm có doanh thu cao nhất'}, ylabel='Description'>"
      ]
     },
     "execution_count": 19,
     "metadata": {},
     "output_type": "execute_result"
    },
    {
     "data": {
      "image/png": "[encoded data removed]",
      "text/plain": [
       "<Figure size 640x480 with 1 Axes>"
      ]
     },
     "metadata": {},
     "output_type": "display_data"
    }
   ],
   "source": [
    "top_revenue_products = retail_data_cleaned.groupby('Description')['TotalPrice'].sum().sort_values(ascending=False).head(10)\n",
    "top_revenue_products.plot(kind='barh', title='Top 10 sản phẩm có doanh thu cao nhất')\n"
   ]
  },
  {
   "cell_type": "markdown",
   "id": "99e6c348",
   "metadata": {},
   "source": [
    "Nhìn vào đây, ta nhận thấy sự khác biệt:\n",
    "\n",
    "Các sản phẩm bán chạy nhất (theo số lượng) chủ yếu là các mặt hàng giá thấp, phổ biến, dễ tiêu thụ như đồ trang trí, túi, hộp, vật dụng nhỏ. Trong khi đó, các sản phẩm có doanh thu cao nhất lại bao gồm cả những mặt hàng giá trị lớn (ví dụ: kệ bánh, sản phẩm đặc biệt, phí vận chuyển). Điều này cho thấy:\n",
    "\n",
    "- Một sản phẩm có thể bán rất nhiều nhưng nếu giá thấp thì tổng doanh thu chưa chắc cao.\n",
    "- Ngược lại, sản phẩm giá cao hoặc có giá trị đặc biệt (như kệ bánh, phí vận chuyển) dù số lượng bán ra không lớn nhưng vẫn đóng góp doanh thu lớn.\n",
    "\n",
    "Lý do của sự khác biệt này là do cơ cấu giá bán và nhu cầu tiêu dùng: sản phẩm phổ thông, giá rẻ thường được mua với số lượng lớn, còn sản phẩm giá trị cao hoặc đặc biệt thường được mua ít nhưng mang lại doanh thu lớn. Kết luận: để tối ưu doanh thu, siêu thị cần cân bằng giữa việc thúc đẩy các sản phẩm bán chạy và phát triển các sản phẩm giá trị cao, đồng thời chú ý đến các dịch vụ đi kèm như phí vận chuyển."
   ]
  },
  {
   "cell_type": "markdown",
   "id": "e5fccb59",
   "metadata": {},
   "source": [
    "## 6. Phân tích khách hàng"
   ]
  },
  {
   "cell_type": "markdown",
   "id": "1bcf2be5",
   "metadata": {},
   "source": [
    "Tiếp đến, ta sẽ phân tích tệp khách hàng mua sắm:"
   ]
  },
  {
   "cell_type": "code",
   "execution_count": null,
   "id": "64687c62",
   "metadata": {},
   "outputs": [
    {
     "data": {
      "text/plain": [
       "<Axes: title={'center': 'Top 10 khách hàng chi tiêu nhiều nhất'}, xlabel='CustomerID'>"
      ]
     },
     "execution_count": 25,
     "metadata": {},
     "output_type": "execute_result"
    },
    {
     "data": {
      "image/png": "[encoded data removed]",
      "text/plain": [
       "<Figure size 640x480 with 1 Axes>"
      ]
     },
     "metadata": {},
     "output_type": "display_data"
    }
   ],
   "source": [
    "top_customers = retail_data_cleaned.groupby('CustomerID')['TotalPrice'].sum().sort_values(ascending=False).head(10)\n",
    "top_customers.plot(kind='bar', title='Top 10 khách hàng chi tiêu nhiều nhất')\n"
   ]
  },
  {
   "cell_type": "code",
   "execution_count": null,
   "id": "1a79894f",
   "metadata": {},
   "outputs": [
    {
     "name": "stdout",
     "output_type": "stream",
     "text": [
      "Giá trị trung bình mỗi đơn hàng: 479.56016047917126\n"
     ]
    }
   ],
   "source": [
    "avg_order_value = retail_data_cleaned.groupby('InvoiceNo')['TotalPrice'].sum().mean()\n",
    "print(\"Giá trị trung bình mỗi đơn hàng:\", avg_order_value)\n"
   ]
  },
  {
   "cell_type": "markdown",
   "id": "464f2766",
   "metadata": {},
   "source": [
    "## 7. Phân tích nâng cao"
   ]
  },
  {
   "cell_type": "code",
   "execution_count": null,
   "id": "db97a1e4",
   "metadata": {},
   "outputs": [
    {
     "data": {
      "text/plain": [
       "Text(0.5, 1.0, 'Ma trận tương quan')"
      ]
     },
     "execution_count": 28,
     "metadata": {},
     "output_type": "execute_result"
    },
    {
     "data": {
      "image/png": "[encoded data removed]",
      "text/plain": [
       "<Figure size 640x480 with 2 Axes>"
      ]
     },
     "metadata": {},
     "output_type": "display_data"
    }
   ],
   "source": [
    "corr = retail_data_cleaned[['Quantity', 'UnitPrice', 'TotalPrice']].corr()\n",
    "sns.heatmap(corr, annot=True, cmap='coolwarm')\n",
    "plt.title(\"Ma trận tương quan\")\n"
   ]
  },
  {
   "cell_type": "markdown",
   "id": "29e78ab3",
   "metadata": {},
   "source": [
    "### Nhận xét về ma trận tương quan\n",
    "\n",
    "Biểu đồ ma trận tương quan cho thấy:\n",
    "\n",
    "- **Quantity và TotalPrice** có tương quan rất mạnh (hệ số ~0.91), điều này hợp lý vì TotalPrice được tính trực tiếp từ Quantity và UnitPrice.\n",
    "- **UnitPrice và TotalPrice** có tương quan yếu (hệ số ~0.08), cho thấy giá bán đơn vị không ảnh hưởng nhiều đến tổng doanh thu của từng dòng dữ liệu, chủ yếu do số lượng bán ra quyết định.\n",
    "- **Quantity và UnitPrice** gần như không có tương quan (hệ số ~-0.005), tức là số lượng bán ra của một sản phẩm không phụ thuộc vào giá bán đơn vị.\n",
    "\n",
    "Như vậy, doanh thu chủ yếu bị chi phối bởi số lượng sản phẩm bán ra, còn giá bán đơn vị chỉ đóng vai trò nhỏ trong từng giao dịch."
   ]
  },
  {
   "cell_type": "markdown",
   "id": "93e9458a",
   "metadata": {},
   "source": [
    "## 8. Xử lý ngoại lai"
   ]
  },
  {
   "cell_type": "markdown",
   "id": "649e5439",
   "metadata": {},
   "source": [
    "Qua các phân tích trêm, chúng ta nhận thấy bộ đữ liệu còn có nhiều giá trị bất hợp lý so với các số liệu đã thống kê, nên chúng ta sẽ xử lý chúng\n",
    "* Đầu tiên, chúng ta sẽ đi tìm các giá trị Outliers:"
   ]
  },
  {
   "cell_type": "code",
   "execution_count": null,
   "id": "c0da0f4d",
   "metadata": {},
   "outputs": [
    {
     "name": "stdout",
     "output_type": "stream",
     "text": [
      "Số lượng outliers ở cột Quantity: 25616\n",
      "Số lượng outliers ở cột UnitPrice: 34112\n"
     ]
    },
    {
     "data": {
      "application/vnd.microsoft.datawrangler.viewer.v0+json": {
       "columns": [
        {
         "name": "index",
         "rawType": "int64",
         "type": "integer"
        },
        {
         "name": "InvoiceNo",
         "rawType": "object",
         "type": "unknown"
        },
        {
         "name": "StockCode",
         "rawType": "object",
         "type": "unknown"
        },
        {
         "name": "Description",
         "rawType": "object",
         "type": "string"
        },
        {
         "name": "Quantity",
         "rawType": "int64",
         "type": "integer"
        },
        {
         "name": "InvoiceDate",
         "rawType": "datetime64[ns]",
         "type": "datetime"
        },
        {
         "name": "UnitPrice",
         "rawType": "float64",
         "type": "float"
        },
        {
         "name": "CustomerID",
         "rawType": "float64",
         "type": "float"
        },
        {
         "name": "Country",
         "rawType": "object",
         "type": "string"
        },
        {
         "name": "TotalPrice",
         "rawType": "float64",
         "type": "float"
        },
        {
         "name": "Month",
         "rawType": "int32",
         "type": "integer"
        },
        {
         "name": "Day",
         "rawType": "int32",
         "type": "integer"
        },
        {
         "name": "Hour",
         "rawType": "int32",
         "type": "integer"
        }
       ],
       "ref": "1f78dc5c-4a70-482d-962b-ccb0424d9004",
       "rows": [
        [
         "9",
         "536367",
         "84879",
         "ASSORTED COLOUR BIRD ORNAMENT",
         "32",
         "2010-12-01 08:34:00",
         "1.69",
         "13047.0",
         "United Kingdom",
         "54.08",
         "12",
         "1",
         "8"
        ],
        [
         "31",
         "536370",
         "10002",
         "INFLATABLE POLITICAL GLOBE ",
         "48",
         "2010-12-01 08:45:00",
         "0.85",
         "12583.0",
         "France",
         "40.8",
         "12",
         "1",
         "8"
        ],
        [
         "44",
         "536370",
         "22492",
         "MINI PAINT SET VINTAGE ",
         "36",
         "2010-12-01 08:45:00",
         "0.65",
         "12583.0",
         "France",
         "23.400000000000002",
         "12",
         "1",
         "8"
        ],
        [
         "46",
         "536371",
         "22086",
         "PAPER CHAIN KIT 50'S CHRISTMAS ",
         "80",
         "2010-12-01 09:00:00",
         "2.55",
         "13748.0",
         "United Kingdom",
         "204.0",
         "12",
         "1",
         "9"
        ],
        [
         "65",
         "536374",
         "21258",
         "VICTORIAN SEWING BOX LARGE",
         "32",
         "2010-12-01 09:09:00",
         "10.95",
         "15100.0",
         "United Kingdom",
         "350.4",
         "12",
         "1",
         "9"
        ]
       ],
       "shape": {
        "columns": 12,
        "rows": 5
       }
      },
      "text/html": [
       "<div>\n",
       "<style scoped>\n",
       "    .dataframe tbody tr th:only-of-type {\n",
       "        vertical-align: middle;\n",
       "    }\n",
       "\n",
       "    .dataframe tbody tr th {\n",
       "        vertical-align: top;\n",
       "    }\n",
       "\n",
       "    .dataframe thead th {\n",
       "        text-align: right;\n",
       "    }\n",
       "</style>\n",
       "<table border=\"1\" class=\"dataframe\">\n",
       "  <thead>\n",
       "    <tr style=\"text-align: right;\">\n",
       "      <th></th>\n",
       "      <th>InvoiceNo</th>\n",
       "      <th>StockCode</th>\n",
       "      <th>Description</th>\n",
       "      <th>Quantity</th>\n",
       "      <th>InvoiceDate</th>\n",
       "      <th>UnitPrice</th>\n",
       "      <th>CustomerID</th>\n",
       "      <th>Country</th>\n",
       "      <th>TotalPrice</th>\n",
       "      <th>Month</th>\n",
       "      <th>Day</th>\n",
       "      <th>Hour</th>\n",
       "    </tr>\n",
       "  </thead>\n",
       "  <tbody>\n",
       "    <tr>\n",
       "      <th>9</th>\n",
       "      <td>536367</td>\n",
       "      <td>84879</td>\n",
       "      <td>ASSORTED COLOUR BIRD ORNAMENT</td>\n",
       "      <td>32</td>\n",
       "      <td>2010-12-01 08:34:00</td>\n",
       "      <td>1.69</td>\n",
       "      <td>13047.0</td>\n",
       "      <td>United Kingdom</td>\n",
       "      <td>54.08</td>\n",
       "      <td>12</td>\n",
       "      <td>1</td>\n",
       "      <td>8</td>\n",
       "    </tr>\n",
       "    <tr>\n",
       "      <th>31</th>\n",
       "      <td>536370</td>\n",
       "      <td>10002</td>\n",
       "      <td>INFLATABLE POLITICAL GLOBE</td>\n",
       "      <td>48</td>\n",
       "      <td>2010-12-01 08:45:00</td>\n",
       "      <td>0.85</td>\n",
       "      <td>12583.0</td>\n",
       "      <td>France</td>\n",
       "      <td>40.80</td>\n",
       "      <td>12</td>\n",
       "      <td>1</td>\n",
       "      <td>8</td>\n",
       "    </tr>\n",
       "    <tr>\n",
       "      <th>44</th>\n",
       "      <td>536370</td>\n",
       "      <td>22492</td>\n",
       "      <td>MINI PAINT SET VINTAGE</td>\n",
       "      <td>36</td>\n",
       "      <td>2010-12-01 08:45:00</td>\n",
       "      <td>0.65</td>\n",
       "      <td>12583.0</td>\n",
       "      <td>France</td>\n",
       "      <td>23.40</td>\n",
       "      <td>12</td>\n",
       "      <td>1</td>\n",
       "      <td>8</td>\n",
       "    </tr>\n",
       "    <tr>\n",
       "      <th>46</th>\n",
       "      <td>536371</td>\n",
       "      <td>22086</td>\n",
       "      <td>PAPER CHAIN KIT 50'S CHRISTMAS</td>\n",
       "      <td>80</td>\n",
       "      <td>2010-12-01 09:00:00</td>\n",
       "      <td>2.55</td>\n",
       "      <td>13748.0</td>\n",
       "      <td>United Kingdom</td>\n",
       "      <td>204.00</td>\n",
       "      <td>12</td>\n",
       "      <td>1</td>\n",
       "      <td>9</td>\n",
       "    </tr>\n",
       "    <tr>\n",
       "      <th>65</th>\n",
       "      <td>536374</td>\n",
       "      <td>21258</td>\n",
       "      <td>VICTORIAN SEWING BOX LARGE</td>\n",
       "      <td>32</td>\n",
       "      <td>2010-12-01 09:09:00</td>\n",
       "      <td>10.95</td>\n",
       "      <td>15100.0</td>\n",
       "      <td>United Kingdom</td>\n",
       "      <td>350.40</td>\n",
       "      <td>12</td>\n",
       "      <td>1</td>\n",
       "      <td>9</td>\n",
       "    </tr>\n",
       "  </tbody>\n",
       "</table>\n",
       "</div>"
      ],
      "text/plain": [
       "   InvoiceNo StockCode                      Description  Quantity  \\\n",
       "9     536367     84879    ASSORTED COLOUR BIRD ORNAMENT        32   \n",
       "31    536370     10002      INFLATABLE POLITICAL GLOBE         48   \n",
       "44    536370     22492          MINI PAINT SET VINTAGE         36   \n",
       "46    536371     22086  PAPER CHAIN KIT 50'S CHRISTMAS         80   \n",
       "65    536374     21258       VICTORIAN SEWING BOX LARGE        32   \n",
       "\n",
       "           InvoiceDate  UnitPrice  CustomerID         Country  TotalPrice  \\\n",
       "9  2010-12-01 08:34:00       1.69     13047.0  United Kingdom       54.08   \n",
       "31 2010-12-01 08:45:00       0.85     12583.0          France       40.80   \n",
       "44 2010-12-01 08:45:00       0.65     12583.0          France       23.40   \n",
       "46 2010-12-01 09:00:00       2.55     13748.0  United Kingdom      204.00   \n",
       "65 2010-12-01 09:09:00      10.95     15100.0  United Kingdom      350.40   \n",
       "\n",
       "    Month  Day  Hour  \n",
       "9      12    1     8  \n",
       "31     12    1     8  \n",
       "44     12    1     8  \n",
       "46     12    1     9  \n",
       "65     12    1     9  "
      ]
     },
     "metadata": {},
     "output_type": "display_data"
    },
    {
     "data": {
      "application/vnd.microsoft.datawrangler.viewer.v0+json": {
       "columns": [
        {
         "name": "index",
         "rawType": "int64",
         "type": "integer"
        },
        {
         "name": "InvoiceNo",
         "rawType": "object",
         "type": "unknown"
        },
        {
         "name": "StockCode",
         "rawType": "object",
         "type": "unknown"
        },
        {
         "name": "Description",
         "rawType": "object",
         "type": "string"
        },
        {
         "name": "Quantity",
         "rawType": "int64",
         "type": "integer"
        },
        {
         "name": "InvoiceDate",
         "rawType": "datetime64[ns]",
         "type": "datetime"
        },
        {
         "name": "UnitPrice",
         "rawType": "float64",
         "type": "float"
        },
        {
         "name": "CustomerID",
         "rawType": "float64",
         "type": "float"
        },
        {
         "name": "Country",
         "rawType": "object",
         "type": "string"
        },
        {
         "name": "TotalPrice",
         "rawType": "float64",
         "type": "float"
        },
        {
         "name": "Month",
         "rawType": "int32",
         "type": "integer"
        },
        {
         "name": "Day",
         "rawType": "int32",
         "type": "integer"
        },
        {
         "name": "Hour",
         "rawType": "int32",
         "type": "integer"
        }
       ],
       "ref": "64d228cd-9dc1-40b7-90ea-5ec938b0afbd",
       "rows": [
        [
         "5",
         "536365",
         "22752",
         "SET 7 BABUSHKA NESTING BOXES",
         "2",
         "2010-12-01 08:26:00",
         "7.65",
         "17850.0",
         "United Kingdom",
         "15.3",
         "12",
         "1",
         "8"
        ],
        [
         "16",
         "536367",
         "22622",
         "BOX OF VINTAGE ALPHABET BLOCKS",
         "2",
         "2010-12-01 08:34:00",
         "9.95",
         "13047.0",
         "United Kingdom",
         "19.9",
         "12",
         "1",
         "8"
        ],
        [
         "19",
         "536367",
         "21777",
         "RECIPE BOX WITH METAL HEART",
         "4",
         "2010-12-01 08:34:00",
         "7.95",
         "13047.0",
         "United Kingdom",
         "31.8",
         "12",
         "1",
         "8"
        ],
        [
         "20",
         "536367",
         "48187",
         "DOORMAT NEW ENGLAND",
         "4",
         "2010-12-01 08:34:00",
         "7.95",
         "13047.0",
         "United Kingdom",
         "31.8",
         "12",
         "1",
         "8"
        ],
        [
         "45",
         "536370",
         "POST",
         "POSTAGE",
         "3",
         "2010-12-01 08:45:00",
         "18.0",
         "12583.0",
         "France",
         "54.0",
         "12",
         "1",
         "8"
        ]
       ],
       "shape": {
        "columns": 12,
        "rows": 5
       }
      },
      "text/html": [
       "<div>\n",
       "<style scoped>\n",
       "    .dataframe tbody tr th:only-of-type {\n",
       "        vertical-align: middle;\n",
       "    }\n",
       "\n",
       "    .dataframe tbody tr th {\n",
       "        vertical-align: top;\n",
       "    }\n",
       "\n",
       "    .dataframe thead th {\n",
       "        text-align: right;\n",
       "    }\n",
       "</style>\n",
       "<table border=\"1\" class=\"dataframe\">\n",
       "  <thead>\n",
       "    <tr style=\"text-align: right;\">\n",
       "      <th></th>\n",
       "      <th>InvoiceNo</th>\n",
       "      <th>StockCode</th>\n",
       "      <th>Description</th>\n",
       "      <th>Quantity</th>\n",
       "      <th>InvoiceDate</th>\n",
       "      <th>UnitPrice</th>\n",
       "      <th>CustomerID</th>\n",
       "      <th>Country</th>\n",
       "      <th>TotalPrice</th>\n",
       "      <th>Month</th>\n",
       "      <th>Day</th>\n",
       "      <th>Hour</th>\n",
       "    </tr>\n",
       "  </thead>\n",
       "  <tbody>\n",
       "    <tr>\n",
       "      <th>5</th>\n",
       "      <td>536365</td>\n",
       "      <td>22752</td>\n",
       "      <td>SET 7 BABUSHKA NESTING BOXES</td>\n",
       "      <td>2</td>\n",
       "      <td>2010-12-01 08:26:00</td>\n",
       "      <td>7.65</td>\n",
       "      <td>17850.0</td>\n",
       "      <td>United Kingdom</td>\n",
       "      <td>15.3</td>\n",
       "      <td>12</td>\n",
       "      <td>1</td>\n",
       "      <td>8</td>\n",
       "    </tr>\n",
       "    <tr>\n",
       "      <th>16</th>\n",
       "      <td>536367</td>\n",
       "      <td>22622</td>\n",
       "      <td>BOX OF VINTAGE ALPHABET BLOCKS</td>\n",
       "      <td>2</td>\n",
       "      <td>2010-12-01 08:34:00</td>\n",
       "      <td>9.95</td>\n",
       "      <td>13047.0</td>\n",
       "      <td>United Kingdom</td>\n",
       "      <td>19.9</td>\n",
       "      <td>12</td>\n",
       "      <td>1</td>\n",
       "      <td>8</td>\n",
       "    </tr>\n",
       "    <tr>\n",
       "      <th>19</th>\n",
       "      <td>536367</td>\n",
       "      <td>21777</td>\n",
       "      <td>RECIPE BOX WITH METAL HEART</td>\n",
       "      <td>4</td>\n",
       "      <td>2010-12-01 08:34:00</td>\n",
       "      <td>7.95</td>\n",
       "      <td>13047.0</td>\n",
       "      <td>United Kingdom</td>\n",
       "      <td>31.8</td>\n",
       "      <td>12</td>\n",
       "      <td>1</td>\n",
       "      <td>8</td>\n",
       "    </tr>\n",
       "    <tr>\n",
       "      <th>20</th>\n",
       "      <td>536367</td>\n",
       "      <td>48187</td>\n",
       "      <td>DOORMAT NEW ENGLAND</td>\n",
       "      <td>4</td>\n",
       "      <td>2010-12-01 08:34:00</td>\n",
       "      <td>7.95</td>\n",
       "      <td>13047.0</td>\n",
       "      <td>United Kingdom</td>\n",
       "      <td>31.8</td>\n",
       "      <td>12</td>\n",
       "      <td>1</td>\n",
       "      <td>8</td>\n",
       "    </tr>\n",
       "    <tr>\n",
       "      <th>45</th>\n",
       "      <td>536370</td>\n",
       "      <td>POST</td>\n",
       "      <td>POSTAGE</td>\n",
       "      <td>3</td>\n",
       "      <td>2010-12-01 08:45:00</td>\n",
       "      <td>18.00</td>\n",
       "      <td>12583.0</td>\n",
       "      <td>France</td>\n",
       "      <td>54.0</td>\n",
       "      <td>12</td>\n",
       "      <td>1</td>\n",
       "      <td>8</td>\n",
       "    </tr>\n",
       "  </tbody>\n",
       "</table>\n",
       "</div>"
      ],
      "text/plain": [
       "   InvoiceNo StockCode                     Description  Quantity  \\\n",
       "5     536365     22752    SET 7 BABUSHKA NESTING BOXES         2   \n",
       "16    536367     22622  BOX OF VINTAGE ALPHABET BLOCKS         2   \n",
       "19    536367     21777     RECIPE BOX WITH METAL HEART         4   \n",
       "20    536367     48187             DOORMAT NEW ENGLAND         4   \n",
       "45    536370      POST                         POSTAGE         3   \n",
       "\n",
       "           InvoiceDate  UnitPrice  CustomerID         Country  TotalPrice  \\\n",
       "5  2010-12-01 08:26:00       7.65     17850.0  United Kingdom        15.3   \n",
       "16 2010-12-01 08:34:00       9.95     13047.0  United Kingdom        19.9   \n",
       "19 2010-12-01 08:34:00       7.95     13047.0  United Kingdom        31.8   \n",
       "20 2010-12-01 08:34:00       7.95     13047.0  United Kingdom        31.8   \n",
       "45 2010-12-01 08:45:00      18.00     12583.0          France        54.0   \n",
       "\n",
       "    Month  Day  Hour  \n",
       "5      12    1     8  \n",
       "16     12    1     8  \n",
       "19     12    1     8  \n",
       "20     12    1     8  \n",
       "45     12    1     8  "
      ]
     },
     "metadata": {},
     "output_type": "display_data"
    }
   ],
   "source": [
    "# Phát hiện outliers cho các cột Quantity và UnitPrice bằng phương pháp IQR\n",
    "outlier_indices = {}\n",
    "for col in ['Quantity', 'UnitPrice']:\n",
    "    Q1 = retail_data_cleaned[col].quantile(0.25)\n",
    "    Q3 = retail_data_cleaned[col].quantile(0.75)\n",
    "    IQR = Q3 - Q1\n",
    "    lower_bound = Q1 - 1.5 * IQR\n",
    "    upper_bound = Q3 + 1.5 * IQR\n",
    "    outliers = retail_data_cleaned[(retail_data_cleaned[col] < lower_bound) | (retail_data_cleaned[col] > upper_bound)]\n",
    "    outlier_indices[col] = outliers.index\n",
    "\n",
    "    print(f\"Số lượng outliers ở cột {col}: {len(outliers)}\")\n",
    "\n",
    "# Hiển thị một số dòng dữ liệu bị coi là outlier\n",
    "display(retail_data_cleaned.loc[outlier_indices['Quantity']].head())\n",
    "display(retail_data_cleaned.loc[outlier_indices['UnitPrice']].head())\n"
   ]
  },
  {
   "cell_type": "markdown",
   "id": "0999545b",
   "metadata": {},
   "source": [
    "* Sau đó chúng ta sẽ xử lý chúng"
   ]
  },
  {
   "cell_type": "code",
   "execution_count": null,
   "id": "91c78b86",
   "metadata": {},
   "outputs": [
    {
     "name": "stdout",
     "output_type": "stream",
     "text": [
      "Số dòng dữ liệu sau khi loại bỏ outliers: 333234\n"
     ]
    }
   ],
   "source": [
    "# Loại bỏ các dòng outlier khỏi retail_data_cleaned dựa trên chỉ số đã xác định\n",
    "all_outlier_indices = outlier_indices['Quantity'].union(outlier_indices['UnitPrice'])\n",
    "valid_outlier_indices = all_outlier_indices.intersection(retail_data_cleaned.index)\n",
    "retail_data_cleaned = retail_data_cleaned.drop(index=valid_outlier_indices)\n",
    "\n",
    "print(f\"Số dòng dữ liệu sau khi loại bỏ outliers: {retail_data_cleaned.shape[0]}\")\n"
   ]
  },
  {
   "cell_type": "markdown",
   "id": "85e3dc68",
   "metadata": {},
   "source": [
    "* Cuối cùng chúng ta sẽ kiểm tra lại:"
   ]
  },
  {
   "cell_type": "code",
   "execution_count": null,
   "id": "51d5d7ee",
   "metadata": {},
   "outputs": [
    {
     "name": "stdout",
     "output_type": "stream",
     "text": [
      "Số dòng: 333234\n",
      "Số cột: 12\n",
      "\n",
      "Kiểu dữ liệu từng cột:\n",
      "InvoiceNo              object\n",
      "StockCode              object\n",
      "Description            object\n",
      "Quantity                int64\n",
      "InvoiceDate    datetime64[ns]\n",
      "UnitPrice             float64\n",
      "CustomerID            float64\n",
      "Country                object\n",
      "TotalPrice            float64\n",
      "Month                   int32\n",
      "Day                     int32\n",
      "Hour                    int32\n",
      "dtype: object\n",
      "\n",
      "Kiểm tra dữ liệu bị thiếu:\n",
      "InvoiceNo      0\n",
      "StockCode      0\n",
      "Description    0\n",
      "Quantity       0\n",
      "InvoiceDate    0\n",
      "UnitPrice      0\n",
      "CustomerID     0\n",
      "Country        0\n",
      "TotalPrice     0\n",
      "Month          0\n",
      "Day            0\n",
      "Hour           0\n",
      "dtype: int64\n",
      "\n",
      "Thống kê mô tả các cột Quantity và UnitPrice:\n"
     ]
    },
    {
     "data": {
      "application/vnd.microsoft.datawrangler.viewer.v0+json": {
       "columns": [
        {
         "name": "index",
         "rawType": "object",
         "type": "string"
        },
        {
         "name": "Quantity",
         "rawType": "float64",
         "type": "float"
        },
        {
         "name": "UnitPrice",
         "rawType": "float64",
         "type": "float"
        }
       ],
       "ref": "b39f4149-c2db-4926-93a3-7c86db018168",
       "rows": [
        [
         "count",
         "333234.0",
         "333234.0"
        ],
        [
         "mean",
         "7.550682103266774",
         "2.19421842909187"
        ],
        [
         "std",
         "6.777237254515118",
         "1.546014573247515"
        ],
        [
         "min",
         "1.0",
         "0.001"
        ],
        [
         "25%",
         "2.0",
         "1.25"
        ],
        [
         "50%",
         "6.0",
         "1.65"
        ],
        [
         "75%",
         "12.0",
         "2.95"
        ],
        [
         "max",
         "27.0",
         "7.5"
        ]
       ],
       "shape": {
        "columns": 2,
        "rows": 8
       }
      },
      "text/html": [
       "<div>\n",
       "<style scoped>\n",
       "    .dataframe tbody tr th:only-of-type {\n",
       "        vertical-align: middle;\n",
       "    }\n",
       "\n",
       "    .dataframe tbody tr th {\n",
       "        vertical-align: top;\n",
       "    }\n",
       "\n",
       "    .dataframe thead th {\n",
       "        text-align: right;\n",
       "    }\n",
       "</style>\n",
       "<table border=\"1\" class=\"dataframe\">\n",
       "  <thead>\n",
       "    <tr style=\"text-align: right;\">\n",
       "      <th></th>\n",
       "      <th>Quantity</th>\n",
       "      <th>UnitPrice</th>\n",
       "    </tr>\n",
       "  </thead>\n",
       "  <tbody>\n",
       "    <tr>\n",
       "      <th>count</th>\n",
       "      <td>333234.000000</td>\n",
       "      <td>333234.000000</td>\n",
       "    </tr>\n",
       "    <tr>\n",
       "      <th>mean</th>\n",
       "      <td>7.550682</td>\n",
       "      <td>2.194218</td>\n",
       "    </tr>\n",
       "    <tr>\n",
       "      <th>std</th>\n",
       "      <td>6.777237</td>\n",
       "      <td>1.546015</td>\n",
       "    </tr>\n",
       "    <tr>\n",
       "      <th>min</th>\n",
       "      <td>1.000000</td>\n",
       "      <td>0.001000</td>\n",
       "    </tr>\n",
       "    <tr>\n",
       "      <th>25%</th>\n",
       "      <td>2.000000</td>\n",
       "      <td>1.250000</td>\n",
       "    </tr>\n",
       "    <tr>\n",
       "      <th>50%</th>\n",
       "      <td>6.000000</td>\n",
       "      <td>1.650000</td>\n",
       "    </tr>\n",
       "    <tr>\n",
       "      <th>75%</th>\n",
       "      <td>12.000000</td>\n",
       "      <td>2.950000</td>\n",
       "    </tr>\n",
       "    <tr>\n",
       "      <th>max</th>\n",
       "      <td>27.000000</td>\n",
       "      <td>7.500000</td>\n",
       "    </tr>\n",
       "  </tbody>\n",
       "</table>\n",
       "</div>"
      ],
      "text/plain": [
       "            Quantity      UnitPrice\n",
       "count  333234.000000  333234.000000\n",
       "mean        7.550682       2.194218\n",
       "std         6.777237       1.546015\n",
       "min         1.000000       0.001000\n",
       "25%         2.000000       1.250000\n",
       "50%         6.000000       1.650000\n",
       "75%        12.000000       2.950000\n",
       "max        27.000000       7.500000"
      ]
     },
     "metadata": {},
     "output_type": "display_data"
    }
   ],
   "source": [
    "# Kiểm tra lại thông tin cơ bản của retail_data_cleaned sau khi loại bỏ outliers\n",
    "print(\"Số dòng:\", retail_data_cleaned.shape[0])\n",
    "print(\"Số cột:\", retail_data_cleaned.shape[1])\n",
    "print(\"\\nKiểu dữ liệu từng cột:\")\n",
    "print(retail_data_cleaned.dtypes)\n",
    "print(\"\\nKiểm tra dữ liệu bị thiếu:\")\n",
    "print(retail_data_cleaned.isnull().sum())\n",
    "print(\"\\nThống kê mô tả các cột Quantity và UnitPrice:\")\n",
    "display(retail_data_cleaned[['Quantity', 'UnitPrice']].describe())\n"
   ]
  },
  {
   "cell_type": "markdown",
   "id": "14e969b5",
   "metadata": {},
   "source": [
    "## Kết thúc"
   ]
  }
 ],
 "metadata": {
  "kernelspec": {
   "display_name": "base",
   "language": "python",
   "name": "python3"
  },
  "language_info": {
   "codemirror_mode": {
    "name": "ipython",
    "version": 3
   },
   "file_extension": ".py",
   "mimetype": "text/x-python",
   "name": "python",
   "nbconvert_exporter": "python",
   "pygments_lexer": "ipython3",
   "version": "3.12.7"
  }
 },
 "nbformat": 4,
 "nbformat_minor": 5
}
