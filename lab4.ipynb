{
 "cells": [
  {
   "cell_type": "markdown",
   "id": "3df40f4c",
   "metadata": {
    "vscode": {
     "languageId": "plaintext"
    }
   },
   "source": [
    "# Khai báo thư viện"
   ]
  },
  {
   "cell_type": "code",
   "execution_count": null,
   "id": "85b35496",
   "metadata": {},
   "outputs": [],
   "source": [
    "import pandas as pd\n",
    "import numpy as np\n",
    "import matplotlib.pyplot as plt\n",
    "import seaborn as sns "
   ]
  },
  {
   "cell_type": "markdown",
   "id": "e8369d13",
   "metadata": {},
   "source": [
    "# Đọc dữ liệu (giả định file CSV không có header, thêm header theo pima-indians-diabetes.names)"
   ]
  },
  {
   "cell_type": "code",
   "execution_count": null,
   "id": "1aa422ce",
   "metadata": {},
   "outputs": [],
   "source": [
    "column_names = ['Pregnancies', 'Glucose', 'BloodPressure', 'SkinThickness', \n",
    "                'Insulin', 'BMI', 'DiabetesPedigreeFunction', 'Age', 'Outcome']\n",
    "data = pd.read_csv('pima-indians-diabetes.csv', names=column_names)"
   ]
  },
  {
   "cell_type": "markdown",
   "id": "cad7bffa",
   "metadata": {},
   "source": [
    "# 1. Xác định giá trị thiếu và mẫu bất thường"
   ]
  },
  {
   "cell_type": "code",
   "execution_count": null,
   "id": "ff05ed15",
   "metadata": {},
   "outputs": [],
   "source": [
    "print(\"=== Xác định giá trị thiếu ===\")\n",
    "missing_values = data.isnull().sum()\n",
    "print(\"Số lượng giá trị thiếu cho mỗi cột:\")\n",
    "print(missing_values)"
   ]
  },
  {
   "cell_type": "markdown",
   "id": "3f1072d6",
   "metadata": {},
   "source": [
    "# Kiểm tra giá trị 0 (có thể là giá trị thiếu theo ngữ cảnh y tế, ví dụ: Glucose=0 không hợp lý)"
   ]
  },
  {
   "cell_type": "code",
   "execution_count": null,
   "id": "b251053c",
   "metadata": {},
   "outputs": [],
   "source": [
    "print(\"\\n=== Kiểm tra giá trị 0 (có thể là giá trị thiếu) ===\")\n",
    "zero_values = (data == 0).sum()\n",
    "print(\"Số lượng giá trị 0 cho mỗi cột:\")\n",
    "print(zero_values)"
   ]
  },
  {
   "cell_type": "markdown",
   "id": "56e71d3f",
   "metadata": {},
   "source": [
    "# Xác định mẫu bất thường (dựa trên các giá trị không hợp lý, ví dụ: Glucose=0, BloodPressure=0)"
   ]
  },
  {
   "cell_type": "code",
   "execution_count": null,
   "id": "71b0915d",
   "metadata": {},
   "outputs": [],
   "source": [
    "print(\"\\n=== Mẫu bất thường (giá trị 0 không hợp lý) ===\")\n",
    "unreasonable_zeros = data[(data['Glucose'] == 0) | (data['BloodPressure'] == 0) | \n",
    "                         (data['BMI'] == 0) | (data['Insulin'] == 0)]\n",
    "print(\"Số lượng mẫu có giá trị 0 bất hợp lý:\")\n",
    "print(unreasonable_zeros.shape[0])\n",
    "print(unreasonable_zeros.head())"
   ]
  },
  {
   "cell_type": "markdown",
   "id": "f0de95ec",
   "metadata": {},
   "source": [
    "# 2. Xác định ngoại lệ"
   ]
  },
  {
   "cell_type": "code",
   "execution_count": null,
   "id": "2cdea727",
   "metadata": {},
   "outputs": [],
   "source": [
    "print(\"\\n=== Xác định ngoại lệ ===\")"
   ]
  },
  {
   "cell_type": "markdown",
   "id": "616a814a",
   "metadata": {},
   "source": [
    "# Vẽ boxplot cho từng cột số để phát hiện ngoại lệ"
   ]
  },
  {
   "cell_type": "code",
   "execution_count": null,
   "id": "2d81126d",
   "metadata": {},
   "outputs": [],
   "source": [
    "plt.figure(figsize=(12, 8))\n",
    "data.boxplot(column=column_names[:-1])  # Loại bỏ cột Outcome vì là nhãn\n",
    "plt.title(\"Boxplot của các biến để phát hiện ngoại lệ\")\n",
    "plt.xticks(rotation=45)\n",
    "plt.show()"
   ]
  },
  {
   "cell_type": "markdown",
   "id": "4a1151f8",
   "metadata": {},
   "source": [
    "# Tính IQR để xác định ngoại lệ chi tiết"
   ]
  },
  {
   "cell_type": "code",
   "execution_count": null,
   "id": "68394c27",
   "metadata": {},
   "outputs": [],
   "source": [
    "def detect_outliers(df, column):\n",
    "    Q1 = df[column].quantile(0.25)\n",
    "    Q3 = df[column].quantile(0.75)\n",
    "    IQR = Q3 - Q1\n",
    "    lower_bound = Q1 - 1.5 * IQR\n",
    "    upper_bound = Q3 + 1.5 * IQR\n",
    "    outliers = df[(df[column] < lower_bound) | (df[column] > upper_bound)]\n",
    "    return outliers"
   ]
  },
  {
   "cell_type": "markdown",
   "id": "04880857",
   "metadata": {},
   "source": [
    "# Kiểm tra ngoại lệ cho từng cột"
   ]
  },
  {
   "cell_type": "code",
   "execution_count": null,
   "id": "e85d8671",
   "metadata": {},
   "outputs": [],
   "source": [
    "for column in column_names[:-1]:  # Loại bỏ cột Outcome\n",
    "    outliers = detect_outliers(data, column)\n",
    "    print(f\"\\nSố lượng ngoại lệ trong cột {column}: {outliers.shape[0]}\")\n",
    "    print(outliers[[column]].head())"
   ]
  },
  {
   "cell_type": "markdown",
   "id": "a7659bf5",
   "metadata": {},
   "source": [
    "# Vẽ heatmap để trực quan hóa tương quan (giúp phát hiện bất thường gián tiếp)"
   ]
  },
  {
   "cell_type": "code",
   "execution_count": null,
   "id": "ce1419fc",
   "metadata": {},
   "outputs": [],
   "source": [
    "plt.figure(figsize=(10, 8))\n",
    "sns.heatmap(data.corr(), annot=True, cmap='coolwarm', fmt='.2f')\n",
    "plt.title(\"Ma trận tương quan giữa các biến\")\n",
    "plt.show()"
   ]
  },
  {
   "cell_type": "markdown",
   "id": "f1d793f9",
   "metadata": {},
   "source": [
    "# Kết thúc"
   ]
  }
 ],
 "metadata": {
  "kernelspec": {
   "display_name": "base",
   "language": "python",
   "name": "python3"
  },
  "language_info": {
   "name": "python",
   "version": "3.12.7"
  }
 },
 "nbformat": 4,
 "nbformat_minor": 5
}
