{
 "cells": [
  {
   "cell_type": "markdown",
   "id": "f3571b75",
   "metadata": {},
   "source": [
    "# Khám phá dữ liệu trên tập dữ liệu về bệnh tiểu đường"
   ]
  },
  {
   "cell_type": "markdown",
   "id": "8af11c25",
   "metadata": {},
   "source": [
    "## 2. Chuẩn bị dữ liệu"
   ]
  },
  {
   "cell_type": "code",
   "execution_count": 4,
   "id": "c2cf94ce",
   "metadata": {},
   "outputs": [],
   "source": [
    "import pandas as pd \n",
    "diabetes_data = pd.read_csv(\"diabetes.csv\")\n",
    "diabetes_data = diabetes_data[['Pregnancies','Glucose','BloodPressure','SkinThickness','Insulin','BMI','DiabetesPedigreeFunction','Age','Outcome']]\n"
   ]
  },
  {
   "cell_type": "code",
   "execution_count": 5,
   "id": "bc8ac31f",
   "metadata": {},
   "outputs": [
    {
     "data": {
      "text/html": [
       "<style type=\"text/css\">\n",
       "#T_47970_row0_col0 {\n",
       "  background-color: #fc5b2e;\n",
       "  color: #f1f1f1;\n",
       "}\n",
       "#T_47970_row0_col1 {\n",
       "  background-color: #fc612f;\n",
       "  color: #f1f1f1;\n",
       "}\n",
       "#T_47970_row0_col2 {\n",
       "  background-color: #e2191c;\n",
       "  color: #f1f1f1;\n",
       "}\n",
       "#T_47970_row0_col3, #T_47970_row0_col5, #T_47970_row4_col3 {\n",
       "  background-color: #da141e;\n",
       "  color: #f1f1f1;\n",
       "}\n",
       "#T_47970_row0_col4, #T_47970_row1_col4, #T_47970_row1_col8, #T_47970_row2_col3, #T_47970_row2_col4, #T_47970_row3_col7, #T_47970_row3_col8, #T_47970_row4_col0, #T_47970_row5_col3, #T_47970_row5_col4, #T_47970_row5_col8, #T_47970_row6_col1, #T_47970_row7_col2, #T_47970_row7_col3, #T_47970_row7_col4, #T_47970_row7_col6, #T_47970_row7_col8, #T_47970_row9_col3, #T_47970_row9_col4, #T_47970_row9_col5 {\n",
       "  background-color: #ffffcc;\n",
       "  color: #000000;\n",
       "}\n",
       "#T_47970_row0_col6 {\n",
       "  background-color: #fedd7e;\n",
       "  color: #000000;\n",
       "}\n",
       "#T_47970_row0_col7 {\n",
       "  background-color: #bb0026;\n",
       "  color: #f1f1f1;\n",
       "}\n",
       "#T_47970_row0_col8, #T_47970_row2_col8, #T_47970_row4_col5, #T_47970_row4_col6, #T_47970_row4_col8, #T_47970_row6_col8, #T_47970_row7_col0, #T_47970_row8_col1, #T_47970_row8_col3, #T_47970_row8_col4, #T_47970_row8_col8, #T_47970_row9_col2, #T_47970_row9_col7, #T_47970_row9_col8 {\n",
       "  background-color: #800026;\n",
       "  color: #f1f1f1;\n",
       "}\n",
       "#T_47970_row1_col0, #T_47970_row1_col6, #T_47970_row3_col0 {\n",
       "  background-color: #fff1a9;\n",
       "  color: #000000;\n",
       "}\n",
       "#T_47970_row1_col1 {\n",
       "  background-color: #fff7b7;\n",
       "  color: #000000;\n",
       "}\n",
       "#T_47970_row1_col2, #T_47970_row3_col2 {\n",
       "  background-color: #ef3323;\n",
       "  color: #f1f1f1;\n",
       "}\n",
       "#T_47970_row1_col3 {\n",
       "  background-color: #f84628;\n",
       "  color: #f1f1f1;\n",
       "}\n",
       "#T_47970_row1_col5 {\n",
       "  background-color: #fc532b;\n",
       "  color: #f1f1f1;\n",
       "}\n",
       "#T_47970_row1_col7 {\n",
       "  background-color: #fec965;\n",
       "  color: #000000;\n",
       "}\n",
       "#T_47970_row2_col0, #T_47970_row9_col0 {\n",
       "  background-color: #d41020;\n",
       "  color: #f1f1f1;\n",
       "}\n",
       "#T_47970_row2_col1 {\n",
       "  background-color: #b90026;\n",
       "  color: #f1f1f1;\n",
       "}\n",
       "#T_47970_row2_col2 {\n",
       "  background-color: #f43d25;\n",
       "  color: #f1f1f1;\n",
       "}\n",
       "#T_47970_row2_col5 {\n",
       "  background-color: #fd7836;\n",
       "  color: #f1f1f1;\n",
       "}\n",
       "#T_47970_row2_col6 {\n",
       "  background-color: #fed977;\n",
       "  color: #000000;\n",
       "}\n",
       "#T_47970_row2_col7 {\n",
       "  background-color: #febf5a;\n",
       "  color: #000000;\n",
       "}\n",
       "#T_47970_row3_col1 {\n",
       "  background-color: #fff2ac;\n",
       "  color: #000000;\n",
       "}\n",
       "#T_47970_row3_col3 {\n",
       "  background-color: #fd883b;\n",
       "  color: #f1f1f1;\n",
       "}\n",
       "#T_47970_row3_col4 {\n",
       "  background-color: #ffe590;\n",
       "  color: #000000;\n",
       "}\n",
       "#T_47970_row3_col5 {\n",
       "  background-color: #f74327;\n",
       "  color: #f1f1f1;\n",
       "}\n",
       "#T_47970_row3_col6 {\n",
       "  background-color: #fffdc8;\n",
       "  color: #000000;\n",
       "}\n",
       "#T_47970_row4_col1 {\n",
       "  background-color: #fd8f3d;\n",
       "  color: #f1f1f1;\n",
       "}\n",
       "#T_47970_row4_col2 {\n",
       "  background-color: #fea647;\n",
       "  color: #000000;\n",
       "}\n",
       "#T_47970_row4_col4, #T_47970_row7_col1 {\n",
       "  background-color: #fec662;\n",
       "  color: #000000;\n",
       "}\n",
       "#T_47970_row4_col7 {\n",
       "  background-color: #feb54f;\n",
       "  color: #000000;\n",
       "}\n",
       "#T_47970_row5_col0 {\n",
       "  background-color: #fd8c3c;\n",
       "  color: #f1f1f1;\n",
       "}\n",
       "#T_47970_row5_col1 {\n",
       "  background-color: #fec45f;\n",
       "  color: #000000;\n",
       "}\n",
       "#T_47970_row5_col2 {\n",
       "  background-color: #dc151e;\n",
       "  color: #f1f1f1;\n",
       "}\n",
       "#T_47970_row5_col5 {\n",
       "  background-color: #fc5d2e;\n",
       "  color: #f1f1f1;\n",
       "}\n",
       "#T_47970_row5_col6 {\n",
       "  background-color: #fffbc2;\n",
       "  color: #000000;\n",
       "}\n",
       "#T_47970_row5_col7 {\n",
       "  background-color: #fed36f;\n",
       "  color: #000000;\n",
       "}\n",
       "#T_47970_row6_col0 {\n",
       "  background-color: #feca66;\n",
       "  color: #000000;\n",
       "}\n",
       "#T_47970_row6_col2 {\n",
       "  background-color: #fd8239;\n",
       "  color: #f1f1f1;\n",
       "}\n",
       "#T_47970_row6_col3 {\n",
       "  background-color: #ea2920;\n",
       "  color: #f1f1f1;\n",
       "}\n",
       "#T_47970_row6_col4 {\n",
       "  background-color: #ffe794;\n",
       "  color: #000000;\n",
       "}\n",
       "#T_47970_row6_col5 {\n",
       "  background-color: #e9261f;\n",
       "  color: #f1f1f1;\n",
       "}\n",
       "#T_47970_row6_col6 {\n",
       "  background-color: #fff8ba;\n",
       "  color: #000000;\n",
       "}\n",
       "#T_47970_row6_col7 {\n",
       "  background-color: #ffe998;\n",
       "  color: #000000;\n",
       "}\n",
       "#T_47970_row7_col5 {\n",
       "  background-color: #ce0c22;\n",
       "  color: #f1f1f1;\n",
       "}\n",
       "#T_47970_row7_col7 {\n",
       "  background-color: #feda78;\n",
       "  color: #000000;\n",
       "}\n",
       "#T_47970_row8_col0 {\n",
       "  background-color: #fee187;\n",
       "  color: #000000;\n",
       "}\n",
       "#T_47970_row8_col2 {\n",
       "  background-color: #e7231e;\n",
       "  color: #f1f1f1;\n",
       "}\n",
       "#T_47970_row8_col5 {\n",
       "  background-color: #eb2b21;\n",
       "  color: #f1f1f1;\n",
       "}\n",
       "#T_47970_row8_col6 {\n",
       "  background-color: #fffec9;\n",
       "  color: #000000;\n",
       "}\n",
       "#T_47970_row8_col7 {\n",
       "  background-color: #8d0026;\n",
       "  color: #f1f1f1;\n",
       "}\n",
       "#T_47970_row9_col1 {\n",
       "  background-color: #feac49;\n",
       "  color: #000000;\n",
       "}\n",
       "#T_47970_row9_col6 {\n",
       "  background-color: #fff9bd;\n",
       "  color: #000000;\n",
       "}\n",
       "</style>\n",
       "<table id=\"T_47970\">\n",
       "  <thead>\n",
       "    <tr>\n",
       "      <th class=\"blank level0\" >&nbsp;</th>\n",
       "      <th id=\"T_47970_level0_col0\" class=\"col_heading level0 col0\" >Pregnancies</th>\n",
       "      <th id=\"T_47970_level0_col1\" class=\"col_heading level0 col1\" >Glucose</th>\n",
       "      <th id=\"T_47970_level0_col2\" class=\"col_heading level0 col2\" >BloodPressure</th>\n",
       "      <th id=\"T_47970_level0_col3\" class=\"col_heading level0 col3\" >SkinThickness</th>\n",
       "      <th id=\"T_47970_level0_col4\" class=\"col_heading level0 col4\" >Insulin</th>\n",
       "      <th id=\"T_47970_level0_col5\" class=\"col_heading level0 col5\" >BMI</th>\n",
       "      <th id=\"T_47970_level0_col6\" class=\"col_heading level0 col6\" >DiabetesPedigreeFunction</th>\n",
       "      <th id=\"T_47970_level0_col7\" class=\"col_heading level0 col7\" >Age</th>\n",
       "      <th id=\"T_47970_level0_col8\" class=\"col_heading level0 col8\" >Outcome</th>\n",
       "    </tr>\n",
       "  </thead>\n",
       "  <tbody>\n",
       "    <tr>\n",
       "      <th id=\"T_47970_level0_row0\" class=\"row_heading level0 row0\" >0</th>\n",
       "      <td id=\"T_47970_row0_col0\" class=\"data row0 col0\" >6</td>\n",
       "      <td id=\"T_47970_row0_col1\" class=\"data row0 col1\" >148</td>\n",
       "      <td id=\"T_47970_row0_col2\" class=\"data row0 col2\" >72</td>\n",
       "      <td id=\"T_47970_row0_col3\" class=\"data row0 col3\" >35</td>\n",
       "      <td id=\"T_47970_row0_col4\" class=\"data row0 col4\" >0</td>\n",
       "      <td id=\"T_47970_row0_col5\" class=\"data row0 col5\" >33.600000</td>\n",
       "      <td id=\"T_47970_row0_col6\" class=\"data row0 col6\" >0.627000</td>\n",
       "      <td id=\"T_47970_row0_col7\" class=\"data row0 col7\" >50</td>\n",
       "      <td id=\"T_47970_row0_col8\" class=\"data row0 col8\" >1</td>\n",
       "    </tr>\n",
       "    <tr>\n",
       "      <th id=\"T_47970_level0_row1\" class=\"row_heading level0 row1\" >1</th>\n",
       "      <td id=\"T_47970_row1_col0\" class=\"data row1 col0\" >1</td>\n",
       "      <td id=\"T_47970_row1_col1\" class=\"data row1 col1\" >85</td>\n",
       "      <td id=\"T_47970_row1_col2\" class=\"data row1 col2\" >66</td>\n",
       "      <td id=\"T_47970_row1_col3\" class=\"data row1 col3\" >29</td>\n",
       "      <td id=\"T_47970_row1_col4\" class=\"data row1 col4\" >0</td>\n",
       "      <td id=\"T_47970_row1_col5\" class=\"data row1 col5\" >26.600000</td>\n",
       "      <td id=\"T_47970_row1_col6\" class=\"data row1 col6\" >0.351000</td>\n",
       "      <td id=\"T_47970_row1_col7\" class=\"data row1 col7\" >31</td>\n",
       "      <td id=\"T_47970_row1_col8\" class=\"data row1 col8\" >0</td>\n",
       "    </tr>\n",
       "    <tr>\n",
       "      <th id=\"T_47970_level0_row2\" class=\"row_heading level0 row2\" >2</th>\n",
       "      <td id=\"T_47970_row2_col0\" class=\"data row2 col0\" >8</td>\n",
       "      <td id=\"T_47970_row2_col1\" class=\"data row2 col1\" >183</td>\n",
       "      <td id=\"T_47970_row2_col2\" class=\"data row2 col2\" >64</td>\n",
       "      <td id=\"T_47970_row2_col3\" class=\"data row2 col3\" >0</td>\n",
       "      <td id=\"T_47970_row2_col4\" class=\"data row2 col4\" >0</td>\n",
       "      <td id=\"T_47970_row2_col5\" class=\"data row2 col5\" >23.300000</td>\n",
       "      <td id=\"T_47970_row2_col6\" class=\"data row2 col6\" >0.672000</td>\n",
       "      <td id=\"T_47970_row2_col7\" class=\"data row2 col7\" >32</td>\n",
       "      <td id=\"T_47970_row2_col8\" class=\"data row2 col8\" >1</td>\n",
       "    </tr>\n",
       "    <tr>\n",
       "      <th id=\"T_47970_level0_row3\" class=\"row_heading level0 row3\" >3</th>\n",
       "      <td id=\"T_47970_row3_col0\" class=\"data row3 col0\" >1</td>\n",
       "      <td id=\"T_47970_row3_col1\" class=\"data row3 col1\" >89</td>\n",
       "      <td id=\"T_47970_row3_col2\" class=\"data row3 col2\" >66</td>\n",
       "      <td id=\"T_47970_row3_col3\" class=\"data row3 col3\" >23</td>\n",
       "      <td id=\"T_47970_row3_col4\" class=\"data row3 col4\" >94</td>\n",
       "      <td id=\"T_47970_row3_col5\" class=\"data row3 col5\" >28.100000</td>\n",
       "      <td id=\"T_47970_row3_col6\" class=\"data row3 col6\" >0.167000</td>\n",
       "      <td id=\"T_47970_row3_col7\" class=\"data row3 col7\" >21</td>\n",
       "      <td id=\"T_47970_row3_col8\" class=\"data row3 col8\" >0</td>\n",
       "    </tr>\n",
       "    <tr>\n",
       "      <th id=\"T_47970_level0_row4\" class=\"row_heading level0 row4\" >4</th>\n",
       "      <td id=\"T_47970_row4_col0\" class=\"data row4 col0\" >0</td>\n",
       "      <td id=\"T_47970_row4_col1\" class=\"data row4 col1\" >137</td>\n",
       "      <td id=\"T_47970_row4_col2\" class=\"data row4 col2\" >40</td>\n",
       "      <td id=\"T_47970_row4_col3\" class=\"data row4 col3\" >35</td>\n",
       "      <td id=\"T_47970_row4_col4\" class=\"data row4 col4\" >168</td>\n",
       "      <td id=\"T_47970_row4_col5\" class=\"data row4 col5\" >43.100000</td>\n",
       "      <td id=\"T_47970_row4_col6\" class=\"data row4 col6\" >2.288000</td>\n",
       "      <td id=\"T_47970_row4_col7\" class=\"data row4 col7\" >33</td>\n",
       "      <td id=\"T_47970_row4_col8\" class=\"data row4 col8\" >1</td>\n",
       "    </tr>\n",
       "    <tr>\n",
       "      <th id=\"T_47970_level0_row5\" class=\"row_heading level0 row5\" >5</th>\n",
       "      <td id=\"T_47970_row5_col0\" class=\"data row5 col0\" >5</td>\n",
       "      <td id=\"T_47970_row5_col1\" class=\"data row5 col1\" >116</td>\n",
       "      <td id=\"T_47970_row5_col2\" class=\"data row5 col2\" >74</td>\n",
       "      <td id=\"T_47970_row5_col3\" class=\"data row5 col3\" >0</td>\n",
       "      <td id=\"T_47970_row5_col4\" class=\"data row5 col4\" >0</td>\n",
       "      <td id=\"T_47970_row5_col5\" class=\"data row5 col5\" >25.600000</td>\n",
       "      <td id=\"T_47970_row5_col6\" class=\"data row5 col6\" >0.201000</td>\n",
       "      <td id=\"T_47970_row5_col7\" class=\"data row5 col7\" >30</td>\n",
       "      <td id=\"T_47970_row5_col8\" class=\"data row5 col8\" >0</td>\n",
       "    </tr>\n",
       "    <tr>\n",
       "      <th id=\"T_47970_level0_row6\" class=\"row_heading level0 row6\" >6</th>\n",
       "      <td id=\"T_47970_row6_col0\" class=\"data row6 col0\" >3</td>\n",
       "      <td id=\"T_47970_row6_col1\" class=\"data row6 col1\" >78</td>\n",
       "      <td id=\"T_47970_row6_col2\" class=\"data row6 col2\" >50</td>\n",
       "      <td id=\"T_47970_row6_col3\" class=\"data row6 col3\" >32</td>\n",
       "      <td id=\"T_47970_row6_col4\" class=\"data row6 col4\" >88</td>\n",
       "      <td id=\"T_47970_row6_col5\" class=\"data row6 col5\" >31.000000</td>\n",
       "      <td id=\"T_47970_row6_col6\" class=\"data row6 col6\" >0.248000</td>\n",
       "      <td id=\"T_47970_row6_col7\" class=\"data row6 col7\" >26</td>\n",
       "      <td id=\"T_47970_row6_col8\" class=\"data row6 col8\" >1</td>\n",
       "    </tr>\n",
       "    <tr>\n",
       "      <th id=\"T_47970_level0_row7\" class=\"row_heading level0 row7\" >7</th>\n",
       "      <td id=\"T_47970_row7_col0\" class=\"data row7 col0\" >10</td>\n",
       "      <td id=\"T_47970_row7_col1\" class=\"data row7 col1\" >115</td>\n",
       "      <td id=\"T_47970_row7_col2\" class=\"data row7 col2\" >0</td>\n",
       "      <td id=\"T_47970_row7_col3\" class=\"data row7 col3\" >0</td>\n",
       "      <td id=\"T_47970_row7_col4\" class=\"data row7 col4\" >0</td>\n",
       "      <td id=\"T_47970_row7_col5\" class=\"data row7 col5\" >35.300000</td>\n",
       "      <td id=\"T_47970_row7_col6\" class=\"data row7 col6\" >0.134000</td>\n",
       "      <td id=\"T_47970_row7_col7\" class=\"data row7 col7\" >29</td>\n",
       "      <td id=\"T_47970_row7_col8\" class=\"data row7 col8\" >0</td>\n",
       "    </tr>\n",
       "    <tr>\n",
       "      <th id=\"T_47970_level0_row8\" class=\"row_heading level0 row8\" >8</th>\n",
       "      <td id=\"T_47970_row8_col0\" class=\"data row8 col0\" >2</td>\n",
       "      <td id=\"T_47970_row8_col1\" class=\"data row8 col1\" >197</td>\n",
       "      <td id=\"T_47970_row8_col2\" class=\"data row8 col2\" >70</td>\n",
       "      <td id=\"T_47970_row8_col3\" class=\"data row8 col3\" >45</td>\n",
       "      <td id=\"T_47970_row8_col4\" class=\"data row8 col4\" >543</td>\n",
       "      <td id=\"T_47970_row8_col5\" class=\"data row8 col5\" >30.500000</td>\n",
       "      <td id=\"T_47970_row8_col6\" class=\"data row8 col6\" >0.158000</td>\n",
       "      <td id=\"T_47970_row8_col7\" class=\"data row8 col7\" >53</td>\n",
       "      <td id=\"T_47970_row8_col8\" class=\"data row8 col8\" >1</td>\n",
       "    </tr>\n",
       "    <tr>\n",
       "      <th id=\"T_47970_level0_row9\" class=\"row_heading level0 row9\" >9</th>\n",
       "      <td id=\"T_47970_row9_col0\" class=\"data row9 col0\" >8</td>\n",
       "      <td id=\"T_47970_row9_col1\" class=\"data row9 col1\" >125</td>\n",
       "      <td id=\"T_47970_row9_col2\" class=\"data row9 col2\" >96</td>\n",
       "      <td id=\"T_47970_row9_col3\" class=\"data row9 col3\" >0</td>\n",
       "      <td id=\"T_47970_row9_col4\" class=\"data row9 col4\" >0</td>\n",
       "      <td id=\"T_47970_row9_col5\" class=\"data row9 col5\" >0.000000</td>\n",
       "      <td id=\"T_47970_row9_col6\" class=\"data row9 col6\" >0.232000</td>\n",
       "      <td id=\"T_47970_row9_col7\" class=\"data row9 col7\" >54</td>\n",
       "      <td id=\"T_47970_row9_col8\" class=\"data row9 col8\" >1</td>\n",
       "    </tr>\n",
       "  </tbody>\n",
       "</table>\n"
      ],
      "text/plain": [
       "<pandas.io.formats.style.Styler at 0x205fbe94c20>"
      ]
     },
     "metadata": {},
     "output_type": "display_data"
    }
   ],
   "source": [
    "from IPython.display import display\n",
    "display(diabetes_data.head(10).style.background_gradient(cmap='YlOrRd'))\n"
   ]
  },
  {
   "cell_type": "markdown",
   "id": "a314a33d",
   "metadata": {},
   "source": [
    "### 3. Kiểm tra dữ liệu và định dạng "
   ]
  },
  {
   "cell_type": "markdown",
   "id": "fe8400e3",
   "metadata": {},
   "source": [
    "### 3.1. Kiểm tra dữ liệu trùng lặp"
   ]
  },
  {
   "cell_type": "code",
   "execution_count": 6,
   "id": "44b2b0be",
   "metadata": {},
   "outputs": [
    {
     "name": "stdout",
     "output_type": "stream",
     "text": [
      "Số dòng bị trùng lặp: 0\n",
      "Các dòng bị trùng lặp:\n"
     ]
    },
    {
     "data": {
      "application/vnd.microsoft.datawrangler.viewer.v0+json": {
       "columns": [
        {
         "name": "index",
         "rawType": "int64",
         "type": "integer"
        },
        {
         "name": "Pregnancies",
         "rawType": "int64",
         "type": "integer"
        },
        {
         "name": "Glucose",
         "rawType": "int64",
         "type": "integer"
        },
        {
         "name": "BloodPressure",
         "rawType": "int64",
         "type": "integer"
        },
        {
         "name": "SkinThickness",
         "rawType": "int64",
         "type": "integer"
        },
        {
         "name": "Insulin",
         "rawType": "int64",
         "type": "integer"
        },
        {
         "name": "BMI",
         "rawType": "float64",
         "type": "float"
        },
        {
         "name": "DiabetesPedigreeFunction",
         "rawType": "float64",
         "type": "float"
        },
        {
         "name": "Age",
         "rawType": "int64",
         "type": "integer"
        },
        {
         "name": "Outcome",
         "rawType": "int64",
         "type": "integer"
        }
       ],
       "ref": "fae9d882-8b1b-46a3-b46d-86f7f0835838",
       "rows": [],
       "shape": {
        "columns": 9,
        "rows": 0
       }
      },
      "text/html": [
       "<div>\n",
       "<style scoped>\n",
       "    .dataframe tbody tr th:only-of-type {\n",
       "        vertical-align: middle;\n",
       "    }\n",
       "\n",
       "    .dataframe tbody tr th {\n",
       "        vertical-align: top;\n",
       "    }\n",
       "\n",
       "    .dataframe thead th {\n",
       "        text-align: right;\n",
       "    }\n",
       "</style>\n",
       "<table border=\"1\" class=\"dataframe\">\n",
       "  <thead>\n",
       "    <tr style=\"text-align: right;\">\n",
       "      <th></th>\n",
       "      <th>Pregnancies</th>\n",
       "      <th>Glucose</th>\n",
       "      <th>BloodPressure</th>\n",
       "      <th>SkinThickness</th>\n",
       "      <th>Insulin</th>\n",
       "      <th>BMI</th>\n",
       "      <th>DiabetesPedigreeFunction</th>\n",
       "      <th>Age</th>\n",
       "      <th>Outcome</th>\n",
       "    </tr>\n",
       "  </thead>\n",
       "  <tbody>\n",
       "  </tbody>\n",
       "</table>\n",
       "</div>"
      ],
      "text/plain": [
       "Empty DataFrame\n",
       "Columns: [Pregnancies, Glucose, BloodPressure, SkinThickness, Insulin, BMI, DiabetesPedigreeFunction, Age, Outcome]\n",
       "Index: []"
      ]
     },
     "metadata": {},
     "output_type": "display_data"
    }
   ],
   "source": [
    "duplicate_count = diabetes_data.duplicated().sum()\n",
    "print(f\"Số dòng bị trùng lặp: {duplicate_count}\")\n",
    "\n",
    "# Hiển thị các dòng bị trùng lặp\n",
    "duplicated_rows = diabetes_data[diabetes_data.duplicated(keep=False)]\n",
    "print(\"Các dòng bị trùng lặp:\")\n",
    "display(duplicated_rows)\n"
   ]
  },
  {
   "cell_type": "markdown",
   "id": "dcf3a79b",
   "metadata": {},
   "source": [
    "### 2.2. Kiểm tra dữ liệu bị thiếu "
   ]
  },
  {
   "cell_type": "code",
   "execution_count": null,
   "id": "5a02291d",
   "metadata": {},
   "outputs": [
    {
     "data": {
      "application/vnd.microsoft.datawrangler.viewer.v0+json": {
       "columns": [
        {
         "name": "index",
         "rawType": "object",
         "type": "string"
        },
        {
         "name": "0",
         "rawType": "float64",
         "type": "float"
        }
       ],
       "ref": "fd3f7034-bd3d-4ce1-992a-1cb9b363cb9d",
       "rows": [
        [
         "Pregnancies",
         "0.0"
        ],
        [
         "Glucose",
         "0.0"
        ],
        [
         "BloodPressure",
         "0.0"
        ],
        [
         "SkinThickness",
         "0.0"
        ],
        [
         "Insulin",
         "0.0"
        ],
        [
         "BMI",
         "0.0"
        ],
        [
         "DiabetesPedigreeFunction",
         "0.0"
        ],
        [
         "Age",
         "0.0"
        ],
        [
         "Outcome",
         "0.0"
        ]
       ],
       "shape": {
        "columns": 1,
        "rows": 9
       }
      },
      "text/plain": [
       "Pregnancies                 0.0\n",
       "Glucose                     0.0\n",
       "BloodPressure               0.0\n",
       "SkinThickness               0.0\n",
       "Insulin                     0.0\n",
       "BMI                         0.0\n",
       "DiabetesPedigreeFunction    0.0\n",
       "Age                         0.0\n",
       "Outcome                     0.0\n",
       "dtype: float64"
      ]
     },
     "execution_count": 7,
     "metadata": {},
     "output_type": "execute_result"
    }
   ],
   "source": [
    "missing_info = diabetes_data.isnull().sum()\n",
    "missing_info\n",
    "missing_percentage = (missing_info / len(diabetes_data)) * 100\n",
    "missing_percentage\n"
   ]
  },
  {
   "cell_type": "markdown",
   "id": "31e54640",
   "metadata": {},
   "source": [
    "### 2.3. Kiểm tra định dạng dữ liệu"
   ]
  }
 ],
 "metadata": {
  "kernelspec": {
   "display_name": "base",
   "language": "python",
   "name": "python3"
  },
  "language_info": {
   "codemirror_mode": {
    "name": "ipython",
    "version": 3
   },
   "file_extension": ".py",
   "mimetype": "text/x-python",
   "name": "python",
   "nbconvert_exporter": "python",
   "pygments_lexer": "ipython3",
   "version": "3.12.7"
  }
 },
 "nbformat": 4,
 "nbformat_minor": 5
}
